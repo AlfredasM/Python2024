{
 "cells": [
  {
   "cell_type": "markdown",
   "source": [
    "Polimorfizmas"
   ],
   "metadata": {
    "collapsed": false
   },
   "id": "3b9ff1f0905a00c9"
  },
  {
   "cell_type": "markdown",
   "source": [
    "### 1.Sukurkite programą, kuri valdytų studentų pažymius skirtinguose dalykuose. Turite bazinę klasę Studentas, kuri turi studento vardą ir metodą gauti_vidurki, kuris grąžina studento pažymių vidurkį. Tada sukurkite išvestines klases MatematikosKursoStudentas, LiteraturosKursoStudentas, ir FizikosKursoStudentas, kiekviena turinti skirtingus pažymius ir atitinkamai perrašant gauti_vidurki metodą."
   ],
   "metadata": {
    "collapsed": false
   },
   "id": "a224ced61de858b9"
  },
  {
   "cell_type": "code",
   "execution_count": 179,
   "outputs": [
    {
     "name": "stdout",
     "output_type": "stream",
     "text": [
      "Jonas: vidurkis 8.5\n",
      "Onute: vidurkis 7.5\n",
      "Petras: vidurkis 9.75\n"
     ]
    }
   ],
   "source": [
    "#Sprendimas:\n",
    "class Studentas:\n",
    "    def __init__(self, vardas):\n",
    "        self.vardas = vardas\n",
    "\n",
    "    def gauti_vidurki(self):\n",
    "        return 0\n",
    "       \n",
    "        \n",
    "class MatematikosKursoStudentas(Studentas):\n",
    "    def __init__(self, vardas, matematikos_pazymys):\n",
    "        super().__init__(vardas)\n",
    "        self.matematikos_pazymys = matematikos_pazymys\n",
    "    \n",
    "    def gauti_vidurki(self):\n",
    "        return sum(self.matematikos_pazymys) / len(self.matematikos_pazymys)\n",
    "        \n",
    "            \n",
    "class LiteraturosKursoStudentas(Studentas):\n",
    "    def __init__(self, vardas, literaturos_pazymys):\n",
    "        super().__init__(vardas)\n",
    "        self.literaturos_pazymys = literaturos_pazymys\n",
    "        \n",
    "    def gauti_vidurki(self):\n",
    "        return sum(self.literaturos_pazymys) / len(self.literaturos_pazymys)\n",
    "        \n",
    "        \n",
    "class FizikosKursoStudentas(Studentas):\n",
    "    def __init__(self, vardas, fizikos_pazymys):\n",
    "        super().__init__(vardas)\n",
    "        self.fizikos_pazymys = fizikos_pazymys\n",
    "        \n",
    "    def gauti_vidurki(self):\n",
    "        return sum(self.fizikos_pazymys) / len(self.fizikos_pazymys)\n",
    "    \n",
    "matematikos_studentas = MatematikosKursoStudentas('Jonas', [8, 9, 7, 10])\n",
    "literaturos_studentas = LiteraturosKursoStudentas('Onute', [10, 8, 7, 5])\n",
    "fizikos_studentas = FizikosKursoStudentas('Petras', [10, 10, 10, 9])\n",
    "\n",
    "studentai = [matematikos_studentas, literaturos_studentas, fizikos_studentas]\n",
    "for studentas in studentai:\n",
    "    print(f'{studentas.vardas}: vidurkis {studentas.gauti_vidurki()}')"
   ],
   "metadata": {
    "collapsed": false,
    "ExecuteTime": {
     "end_time": "2024-02-21T14:41:06.160628300Z",
     "start_time": "2024-02-21T14:41:06.140310700Z"
    }
   },
   "id": "141b879d31b97c91"
  },
  {
   "cell_type": "markdown",
   "source": [
    "### 2. Sukurkite sistemą, kuri valdytų skirtingų tipų prekių pardavimą parduotuvėje. Turite bazinę klasę Preke, kuri turi prekės pavadinimą ir kainą, bei metodą spausdinti_info, kuris atspausdina prekės informaciją. Tada sukurkite išvestines klases Maistas, BuitineTechnika, ir Drabuziai, kiekviena turinti papildomus atributus, pavyzdžiui, galiojimo datą maistui, garantijos laikotarpį buitinei technikai ir dydį drabužiams. Kiekviena išvestinė klasė turėtų perrašyti spausdinti_info metodą, įtraukiant papildomą informaciją."
   ],
   "metadata": {
    "collapsed": false
   },
   "id": "1b6858e0e68006d2"
  },
  {
   "cell_type": "code",
   "execution_count": 180,
   "outputs": [
    {
     "name": "stdout",
     "output_type": "stream",
     "text": [
      "'Pavadinimas':Duona, 'Prekes kaina': 2,'Galiojimo data':12 \n",
      "'Pavadinimas':Mikseris, 'Prekes kaina': 150,'Garantijos laikotarpis':24 \n",
      "'Pavadinimas':Kelnes, 'Prekes kaina': f'25.:EUR','Drabuzio dydis':XL \n"
     ]
    }
   ],
   "source": [
    "# Sprendimas:\n",
    "class Preke:\n",
    "    def __init__(self, pavadinimas, kaina):\n",
    "        self.pavadinimas = pavadinimas\n",
    "        self.kaina = kaina\n",
    "        \n",
    "    def spausdinti_info(self):\n",
    "        print( 'Prekiu informacija')\n",
    "    \n",
    "class Maistas(Preke):\n",
    "    def __init__(self, pavadinimas, kaina, galiojimas):\n",
    "        super().__init__(pavadinimas, kaina)\n",
    "        self.galiojimas = galiojimas\n",
    "    \n",
    "    def spausdinti_info(self):\n",
    "        print (f\"'Pavadinimas':{self.pavadinimas}, 'Prekes kaina': {self.kaina},'Galiojimo data':{self.galiojimas} \")\n",
    "        \n",
    "class ButineTechnika(Preke):\n",
    "    def __init__(self, pavadinimas, kaina, garantija):\n",
    "        super().__init__(pavadinimas, kaina)\n",
    "        self.garantija = garantija\n",
    "        \n",
    "    def spausdinti_info(self):\n",
    "        print ( f\"'Pavadinimas':{self.pavadinimas}, 'Prekes kaina': {self.kaina},'Garantijos laikotarpis':{self.garantija} \")\n",
    "\n",
    "class Drabuziai(Preke):\n",
    "    def __init__(self, pavadinimas, kaina, dydis):\n",
    "        super().__init__(pavadinimas, kaina)\n",
    "        self.dydis = dydis\n",
    "    \n",
    "    def spausdinti_info(self):\n",
    "        print ( f\"'Pavadinimas':{self.pavadinimas}, 'Prekes kaina': f'{self.kaina}.:EUR','Drabuzio dydis':{self.dydis} \")\n",
    "\n",
    "preke1 = Maistas('Duona', 2, 12)\n",
    "preke2 = ButineTechnika('Mikseris', 150, 24)\n",
    "preke3 = Drabuziai('Kelnes', 25, 'XL')\n",
    "\n",
    "\n",
    "preke1.spausdinti_info()\n",
    "preke2.spausdinti_info()\n",
    "preke3.spausdinti_info()\n",
    "\n",
    "\n",
    "    \n",
    "    "
   ],
   "metadata": {
    "collapsed": false,
    "ExecuteTime": {
     "end_time": "2024-02-21T14:41:06.162628700Z",
     "start_time": "2024-02-21T14:41:06.150965700Z"
    }
   },
   "id": "d28ae905a213c576"
  },
  {
   "cell_type": "markdown",
   "source": [
    "### 3. Sukurkite sistemą, kuri leistų valdyti skirtingų tipų darbuotojų informaciją įmonėje. Turite bazinę klasę Darbuotojas, kuri turi darbuotojo vardą, pavardę ir pareigas. Be to, turite metodą darbuotojo_informacija, kuris atspausdina bendrą darbuotojo informaciją. Tada sukurkite išvestines klases Vadybininkas, Programuotojas, ir Analitikas, kiekviena turinti specifinius atributus ir metodus, susijusius su jų darbo specifika. Pavyzdžiui, Programuotojas gali turėti technologijų sąrašą, su kuriomis dirba, o Vadybininkas - komandą,už kurią jis atsakingas."
   ],
   "metadata": {
    "collapsed": false
   },
   "id": "14b072dab489e1bf"
  },
  {
   "cell_type": "code",
   "execution_count": 181,
   "outputs": [
    {
     "name": "stdout",
     "output_type": "stream",
     "text": [
      "Vardas: Tomas, Pavarde: Tamosius, Pareigos: Vadybininkas, Komanda: 4 zmones\n",
      "Vardas: Kestas, Pavarde: Robinas, Pareigos: Programuotojas, Iranga: Kompiuteris\n",
      "Vardas: Jonas, Pavarde: Jonaitis, Pareigos: Analitikas, Archyvas: Katalogai\n"
     ]
    }
   ],
   "source": [
    "# Sprendimas:\n",
    "class Darbuotojas:\n",
    "    def __init__(self, vardas, pavarde, pareigos):\n",
    "        self.vardas = vardas\n",
    "        self.pavarde = pavarde\n",
    "        self.pareigos = pareigos\n",
    "        \n",
    "    def darbuotojo_informacija(self):\n",
    "        print (f\"'Vardas: {self.vardas}', 'Pavarde: {self.pavarde}', 'Pareigos: {self.pareigos}'\")\n",
    "        \n",
    "    \n",
    "        \n",
    "        \n",
    "class Vadybininkas(Darbuotojas):\n",
    "    def __init__(self, vardas, pavarde, pareigos, komada):\n",
    "        super().__init__(vardas, pavarde, pareigos)\n",
    "        self.komanda = komada\n",
    "        \n",
    "        \n",
    "    def darbuotojo_informacija(self):\n",
    "        print(f\"Vardas: {self.vardas}, Pavarde: {self.pavarde}, Pareigos: {self.pareigos}, Komanda: {self.komanda}\")\n",
    "        \n",
    "        \n",
    "class Programuotojas(Darbuotojas):\n",
    "    def __init__(self,vardas, pavarde, pareigos, technologiju_sarasas):\n",
    "        super().__init__(vardas, pavarde, pareigos)\n",
    "        self.technologiju_sarasas = technologiju_sarasas\n",
    "        \n",
    "    def darbuotojo_informacija(self):\n",
    "        print(f\"Vardas: {self.vardas}, Pavarde: {self.pavarde}, Pareigos: {self.pareigos}, Iranga: {self.technologiju_sarasas}\")\n",
    "        \n",
    "class Analitikas(Darbuotojas):\n",
    "    def __init__(self,vardas, pavarde, pareigos, dokumentacija):\n",
    "        super().__init__(vardas, pavarde, pareigos)\n",
    "        self.dokumentacija = dokumentacija\n",
    "        \n",
    "        \n",
    "    def darbuotojo_informacija(self):\n",
    "        print(f\"Vardas: {self.vardas}, Pavarde: {self.pavarde}, Pareigos: {self.pareigos}, Archyvas: {self.dokumentacija}\")\n",
    "        \n",
    "        \n",
    "\n",
    "darbuotojas1 = Vadybininkas('Tomas', 'Tamosius', 'Vadybininkas', '4 zmones')\n",
    "darbuotojas2 = Programuotojas('Kestas', 'Robinas', 'Programuotojas', 'Kompiuteris')\n",
    "darbuotojas3 = Analitikas('Jonas', 'Jonaitis', 'Analitikas', 'Katalogai')\n",
    "\n",
    "darbuotojas1.darbuotojo_informacija()\n",
    "darbuotojas2.darbuotojo_informacija()\n",
    "darbuotojas3.darbuotojo_informacija()        "
   ],
   "metadata": {
    "collapsed": false,
    "ExecuteTime": {
     "end_time": "2024-02-21T14:41:06.174325Z",
     "start_time": "2024-02-21T14:41:06.168630100Z"
    }
   },
   "id": "dbb1c2d439d87402"
  },
  {
   "cell_type": "markdown",
   "source": [
    "### 4. Sukurkite sistemą, skirtą valdyti įvairių tipų įvykius, pavyzdžiui, konferencijas, seminarus ir mokymus. Kiekvienas įvykio tipas turi turėti skirtingus atributus ir metodus, susijusius su jų organizavimu. Turite bazinę klasę Ivykis, kuri turi bendrus atributus, pavyzdžiui, pavadinimą, datą ir vietą. Be to, turite metodą organizuoti, kuris atspausdina bendrą informaciją apie įvykio organizavimą. Tada sukurkite išvestines klases Konferencija, Seminaras, ir Mokymai, kiekviena turinti papildomus atributus ir metodus, susijusius su konkrečio įvykio organizavimu."
   ],
   "metadata": {
    "collapsed": false
   },
   "id": "706c222ee94e9f68"
  },
  {
   "cell_type": "code",
   "execution_count": 182,
   "outputs": [
    {
     "name": "stdout",
     "output_type": "stream",
     "text": [
      "Pavadinimas: Mokslas, Data: 20230105, Vieta: Kaunas, Tikslas:Klimato atsilimo mazinimas\n",
      "Pavadinimas: Vadybos, Data: 20220105, Vieta: Plunge, Tipas: Verslumo skaitinimas\n",
      "Pavadinimas: Tikslieji, Data: 20250102, Vieta: Pagegiai, Dalykas:Fizika\n"
     ]
    }
   ],
   "source": [
    "# Sprendimas:\n",
    "class Ivykis:\n",
    "    def __init__(self, pavadinimas, data, vieta):\n",
    "        self.pavadinimas = pavadinimas\n",
    "        self.data = data\n",
    "        self.vieta = vieta\n",
    "        \n",
    "    def bendra_informacija(self):\n",
    "        print(f\"Pavadinimas: {self.pavadinimas}, Data: {self.data}, Vieta: {self.vieta}\")\n",
    "  \n",
    "class Konferencija(Ivykis):\n",
    "    def __init__(self, pavadinimas, data, vieta, tikslas):\n",
    "        super(). __init__(pavadinimas, data, vieta)\n",
    "        self.tikslas = tikslas \n",
    "        \n",
    "    def bendra_informacija(self):\n",
    "        print(f\"Pavadinimas: {self.pavadinimas}, Data: {self.data}, Vieta: {self.vieta}, Tikslas:{self.tikslas}\")\n",
    "\n",
    "\n",
    "\n",
    "class Seminaras(Ivykis):\n",
    "    def __init__(self, pavadinimas, data, vieta, tipas):\n",
    "        super(). __init__(pavadinimas, data, vieta)\n",
    "        self.tipas = tipas\n",
    "        \n",
    "        \n",
    "    def bendra_informacija(self):\n",
    "        print(f\"Pavadinimas: {self.pavadinimas}, Data: {self.data}, Vieta: {self.vieta}, Tipas: {self.tipas}\")\n",
    "        \n",
    "        \n",
    "class Mokymai(Ivykis):\n",
    "    def __init__(self, pavadinimas, data, vieta, dalykas):\n",
    "        super(). __init__(pavadinimas, data, vieta)\n",
    "        self.dalykas = dalykas\n",
    "        \n",
    "    def bendra_informacija(self):\n",
    "        print(f\"Pavadinimas: {self.pavadinimas}, Data: {self.data}, Vieta: {self.vieta}, Dalykas:{self.dalykas}\")\n",
    "\n",
    "\n",
    "\n",
    "ivykis1 = Konferencija('Mokslas',20230105,'Kaunas','Klimato atsilimo mazinimas')\n",
    "ivykis2 = Seminaras('Vadybos',20220105,'Plunge','Verslumo skaitinimas')\n",
    "ivykis3 = Mokymai('Tikslieji','20250102','Pagegiai','Fizika')\n",
    "        \n",
    "        \n",
    "ivykis1.bendra_informacija()\n",
    "ivykis2.bendra_informacija()\n",
    "ivykis3.bendra_informacija()"
   ],
   "metadata": {
    "collapsed": false,
    "ExecuteTime": {
     "end_time": "2024-02-21T14:41:06.207096300Z",
     "start_time": "2024-02-21T14:41:06.172324Z"
    }
   },
   "id": "932abca71bd1c99e"
  },
  {
   "cell_type": "markdown",
   "source": [
    "### 5. Sukurkite sistemą, skirtą valdyti įvairių tipų įrenginių, pavyzdžiui, automobilių, dviračių ir valčių, nuomai. Kiekvienas įrenginys turi būti apdorotas skirtingai, atsižvelgiant į jo specifiką, pavyzdžiui, kuro sąnaudas automobiliams arba papildomą įrangą valtims. Turite bazinę klasę Irenginys su metodais nuomos_kaina ir aprasymas, kurie skirsis priklausomai nuo įrenginio tipo"
   ],
   "metadata": {
    "collapsed": false
   },
   "id": "42a61726ebfd3daa"
  },
  {
   "cell_type": "code",
   "execution_count": 183,
   "outputs": [],
   "source": [
    "# Sprendimas:\n"
   ],
   "metadata": {
    "collapsed": false,
    "ExecuteTime": {
     "end_time": "2024-02-21T14:41:06.208095Z",
     "start_time": "2024-02-21T14:41:06.177996200Z"
    }
   },
   "id": "d1b7c0e8c7c05721"
  },
  {
   "cell_type": "markdown",
   "source": [
    "### 6. Sukurkite sistemą, skirtą valdyti viešbučio kambarių rezervacijas. Turite bazinę klasę Kambarys, kuri turi kambario numerį ir bazinę kainą už naktį. Be to, turite metodą kambario_info, kuris atspausdina kambario informaciją, ir metodą skaiciuoti_kaina, kuris skaičiuoja kainą už nurodytą skaičių naktų. Tada sukurkite išvestines klases PrabangusKambarys, ŠeimyninisKambarys, ir VienvietisKambarys, kiekviena turinti specifinius atributus ir metodus, susijusius su kambario tipu."
   ],
   "metadata": {
    "collapsed": false
   },
   "id": "1a04ae5c4bc253"
  },
  {
   "cell_type": "code",
   "execution_count": 184,
   "outputs": [],
   "source": [
    "# Sprendimas\n"
   ],
   "metadata": {
    "collapsed": false,
    "ExecuteTime": {
     "end_time": "2024-02-21T14:41:06.208095Z",
     "start_time": "2024-02-21T14:41:06.181078700Z"
    }
   },
   "id": "df6819d160927cde"
  }
 ],
 "metadata": {
  "kernelspec": {
   "display_name": "Python 3",
   "language": "python",
   "name": "python3"
  },
  "language_info": {
   "codemirror_mode": {
    "name": "ipython",
    "version": 2
   },
   "file_extension": ".py",
   "mimetype": "text/x-python",
   "name": "python",
   "nbconvert_exporter": "python",
   "pygments_lexer": "ipython2",
   "version": "2.7.6"
  }
 },
 "nbformat": 4,
 "nbformat_minor": 5
}
