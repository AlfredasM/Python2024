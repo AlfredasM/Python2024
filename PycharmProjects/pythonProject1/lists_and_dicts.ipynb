{
 "cells": [
  {
   "cell_type": "markdown",
   "source": [
    "# Žodynai ir sąrašai"
   ],
   "metadata": {
    "collapsed": false
   },
   "id": "475f059b687a2a7d"
  },
  {
   "cell_type": "markdown",
   "source": [
    "### 1. Sukurkite žodyną prekes. Atnaujinkite žodyną, padidindami kiekvienos prekės kainą 10%."
   ],
   "metadata": {
    "collapsed": false
   },
   "id": "a46fb78b96b1c52d"
  },
  {
   "cell_type": "code",
   "execution_count": 15,
   "outputs": [
    {
     "name": "stdout",
     "output_type": "stream",
     "text": []
    }
   ],
   "source": [
    "#Sprendimas: \n",
    "prekes = {\n",
    "'mesa': 1,\n",
    "'duona': 2,\n",
    "'pienas': 3\n",
    "}\n",
    "print (f\"\")"
   ],
   "metadata": {
    "collapsed": false,
    "ExecuteTime": {
     "end_time": "2024-02-08T17:53:14.858647700Z",
     "start_time": "2024-02-08T17:53:14.831919600Z"
    }
   },
   "id": "7ed2165149a12a04"
  },
  {
   "cell_type": "markdown",
   "source": [
    "### 2. Sukurkite žodyną studentai. Sukurkite naują žodyną, kuriame būtų tik tie studentai, kurių amžius yra didesnis nei 22 metai."
   ],
   "metadata": {
    "collapsed": false
   },
   "id": "6ca8ab4b43e9fef2"
  },
  {
   "cell_type": "code",
   "outputs": [],
   "source": [],
   "metadata": {
    "collapsed": false,
    "ExecuteTime": {
     "end_time": "2024-02-08T17:53:14.897367Z",
     "start_time": "2024-02-08T17:53:14.860671500Z"
    }
   },
   "id": "79ef06238f34177b",
   "execution_count": 15
  },
  {
   "cell_type": "code",
   "execution_count": 16,
   "outputs": [
    {
     "ename": "NameError",
     "evalue": "name 'studentai_22' is not defined",
     "output_type": "error",
     "traceback": [
      "\u001B[1;31m---------------------------------------------------------------------------\u001B[0m",
      "\u001B[1;31mNameError\u001B[0m                                 Traceback (most recent call last)",
      "Cell \u001B[1;32mIn[16], line 7\u001B[0m\n\u001B[0;32m      1\u001B[0m \u001B[38;5;66;03m#Sprendimas:\u001B[39;00m\n\u001B[0;32m      2\u001B[0m studentai \u001B[38;5;241m=\u001B[39m {\n\u001B[0;32m      3\u001B[0m     \u001B[38;5;124m'\u001B[39m\u001B[38;5;124mOna\u001B[39m\u001B[38;5;124m'\u001B[39m: \u001B[38;5;241m25\u001B[39m,\n\u001B[0;32m      4\u001B[0m     \u001B[38;5;124m'\u001B[39m\u001B[38;5;124mJonas\u001B[39m\u001B[38;5;124m'\u001B[39m: \u001B[38;5;241m20\u001B[39m,\n\u001B[0;32m      5\u001B[0m     \u001B[38;5;124m'\u001B[39m\u001B[38;5;124mDainius\u001B[39m\u001B[38;5;124m'\u001B[39m: \u001B[38;5;241m23\u001B[39m\n\u001B[0;32m      6\u001B[0m }\n\u001B[1;32m----> 7\u001B[0m \u001B[43mstudentai_22\u001B[49m\u001B[38;5;241m.\u001B[39mupdate(studentai)\n\u001B[0;32m      8\u001B[0m \u001B[38;5;28;01mif\u001B[39;00m studentai_22[\u001B[38;5;124m'\u001B[39m\u001B[38;5;124mOna\u001B[39m\u001B[38;5;124m'\u001B[39m] \u001B[38;5;241m<\u001B[39m \u001B[38;5;241m22\u001B[39m:\n\u001B[0;32m      9\u001B[0m     studentai_22\u001B[38;5;241m.\u001B[39mpop(\u001B[38;5;124m'\u001B[39m\u001B[38;5;124mOna\u001B[39m\u001B[38;5;124m'\u001B[39m)\n",
      "\u001B[1;31mNameError\u001B[0m: name 'studentai_22' is not defined"
     ]
    }
   ],
   "source": [
    "#Sprendimas:\n",
    "studentai = {\n",
    "    'Ona': 25,\n",
    "    'Jonas': 20,\n",
    "    'Dainius': 23\n",
    "}\n",
    "studentai_22.update(studentai)\n",
    "if studentai_22['Ona'] < 22:\n",
    "    studentai_22.pop('Ona')\n",
    "if studentai_22['Jonas'] < 22:\n",
    "    studentai_22.pop('Jonas')\n",
    "if studentai_22['Dainius'] < 22:\n",
    "    studentai_22.pop('Dainius')\n",
    "print(\"Studentų virš 22 m. sąrašas:\",studentai_22)"
   ],
   "metadata": {
    "collapsed": false,
    "ExecuteTime": {
     "end_time": "2024-02-08T17:53:14.899392Z",
     "start_time": "2024-02-08T17:53:14.877865300Z"
    }
   },
   "id": "f97c880d660de96"
  },
  {
   "cell_type": "markdown",
   "source": [
    "### 3. Duotas žodynas zodis = \"abracadabra\". Paskaičiuokite, kiek kartų kiekviena raidė pasikartoja žodyje ir išsaugokite rezultatus naujame žodyne."
   ],
   "metadata": {
    "collapsed": false
   },
   "id": "df7ce2241baf6b25"
  },
  {
   "cell_type": "code",
   "execution_count": 17,
   "outputs": [],
   "source": [
    "#Sprendimas: \n",
    "zodis = \"abracadabra\"\n",
    "\n",
    "\n"
   ],
   "metadata": {
    "collapsed": false,
    "ExecuteTime": {
     "end_time": "2024-02-08T17:53:14.935786800Z",
     "start_time": "2024-02-08T17:53:14.901428400Z"
    }
   },
   "id": "3759c5f676873cd3"
  },
  {
   "cell_type": "markdown",
   "source": [
    "### 4. Parašykite programą, kuri patikrintų, ar žodyne yra tam tikras raktas. Jei raktas egzistuoja, išveskite True, priešingu atveju - False."
   ],
   "metadata": {
    "collapsed": false
   },
   "id": "b19be8c5b3f51c0a"
  },
  {
   "cell_type": "code",
   "outputs": [],
   "source": [],
   "metadata": {
    "collapsed": false,
    "ExecuteTime": {
     "end_time": "2024-02-08T17:53:14.935786800Z",
     "start_time": "2024-02-08T17:53:14.905829100Z"
    }
   },
   "id": "52b03b9e497ea363",
   "execution_count": 17
  },
  {
   "cell_type": "code",
   "execution_count": 18,
   "outputs": [
    {
     "ename": "SyntaxError",
     "evalue": "invalid syntax (2635374615.py, line 4)",
     "output_type": "error",
     "traceback": [
      "\u001B[1;36m  Cell \u001B[1;32mIn[18], line 4\u001B[1;36m\u001B[0m\n\u001B[1;33m    \"Amzius\": 35,\u001B[0m\n\u001B[1;37m            ^\u001B[0m\n\u001B[1;31mSyntaxError\u001B[0m\u001B[1;31m:\u001B[0m invalid syntax\n"
     ]
    }
   ],
   "source": [
    "#Sprendimas:\n",
    "zodynas = {\n",
    "    \"Vardas\": 'Jonas'\n",
    "    \"Amzius\": 35,\n",
    "    \"Miestas\" 'Vilnius'\n",
    "}\n"
   ],
   "metadata": {
    "collapsed": false,
    "ExecuteTime": {
     "end_time": "2024-02-08T17:53:14.973112Z",
     "start_time": "2024-02-08T17:53:14.929014Z"
    }
   },
   "id": "54ab91a8aa159e9d"
  },
  {
   "cell_type": "markdown",
   "source": [
    "### 5.Sukurkite žodyną studentu_pazymiai, kuriame raktas - studento vardas, reikšmė - studento pažymiai. Parašykite programą, kuri išvestų kiekvieno studento vardą ir jo pažymių vidurkį."
   ],
   "metadata": {
    "collapsed": false
   },
   "id": "dea636efd9dcbfa1"
  },
  {
   "cell_type": "code",
   "execution_count": 19,
   "outputs": [],
   "source": [
    "#Sprendimas:\n"
   ],
   "metadata": {
    "collapsed": false,
    "ExecuteTime": {
     "end_time": "2024-02-08T17:53:14.986281400Z",
     "start_time": "2024-02-08T17:53:14.976132400Z"
    }
   },
   "id": "fb6ccfc2e8517d57"
  },
  {
   "cell_type": "markdown",
   "source": [
    "### 6. Sukurkite sąrašą vaisiai su šiais elementais: \"Obuolys\", \"Bananai\", \"Kriaušė\", \"Apelsinas\". Atspausdinkite sąrašą.\n"
   ],
   "metadata": {
    "collapsed": false
   },
   "id": "625aab9a56583ef4"
  },
  {
   "cell_type": "code",
   "execution_count": 20,
   "outputs": [
    {
     "name": "stdout",
     "output_type": "stream",
     "text": [
      "['Obuolys', 'Bananai', 'Kriaušė', 'Apelsinas']\n"
     ]
    }
   ],
   "source": [
    "#Sprendimas:\n",
    "sarasas = [\"Obuolys\", \"Bananai\", \"Kriaušė\", \"Apelsinas\"]\n",
    "print (sarasas)"
   ],
   "metadata": {
    "collapsed": false,
    "ExecuteTime": {
     "end_time": "2024-02-08T17:53:15.001068Z",
     "start_time": "2024-02-08T17:53:14.988328400Z"
    }
   },
   "id": "e04a3f379d570af4"
  },
  {
   "cell_type": "markdown",
   "source": [
    "### 7. Turite sąrašą temperatūros su reikšmėmis [20, 22, 19, 25, 30]. Pakeiskite trečią sąrašo elementą iš 19 į 21. Atspausdinkite pakeistą sąrašą."
   ],
   "metadata": {
    "collapsed": false
   },
   "id": "291fc4a18c97f594"
  },
  {
   "cell_type": "code",
   "execution_count": 21,
   "outputs": [
    {
     "name": "stdout",
     "output_type": "stream",
     "text": [
      "[20, 22, 21, 25, 30]\n"
     ]
    }
   ],
   "source": [
    "#Sprendimas:\n",
    "sarasas = [20, 22, 19, 25, 30]\n",
    "sarasas[2]=21\n",
    "print(sarasas)"
   ],
   "metadata": {
    "collapsed": false,
    "ExecuteTime": {
     "end_time": "2024-02-08T17:53:15.002328Z",
     "start_time": "2024-02-08T17:53:14.991985800Z"
    }
   },
   "id": "cc8ba20e2df864fc"
  },
  {
   "cell_type": "markdown",
   "source": [
    "### 8. Yra sąrašas spalvos su reikšmėmis [\"Mėlyna\", \"Žalia\", \"Raudona\", \"Geltona\"]. Pašalinkite \"Žalia\" iš sąrašo ir atspausdinkite likusį sąrašą."
   ],
   "metadata": {
    "collapsed": false
   },
   "id": "e4efe190588e519"
  },
  {
   "cell_type": "code",
   "execution_count": 22,
   "outputs": [
    {
     "name": "stdout",
     "output_type": "stream",
     "text": [
      "['Mėlyna', 'Raudona', 'Geltona']\n"
     ]
    }
   ],
   "source": [
    "#Sprendimas:\n",
    "spalvos = [\"Mėlyna\", \"Žalia\", \"Raudona\", \"Geltona\"]\n",
    "spalvos.remove (\"Žalia\")\n",
    "print (spalvos)"
   ],
   "metadata": {
    "collapsed": false,
    "ExecuteTime": {
     "end_time": "2024-02-08T17:53:15.002328Z",
     "start_time": "2024-02-08T17:53:14.996209400Z"
    }
   },
   "id": "fb3d418a79987031"
  },
  {
   "cell_type": "markdown",
   "source": [
    "### 9. Sukurkite sąrašą vardai su jūsų draugų vardais. Apverskite sąrašo elementų tvarką naudodami Python metodą ir atspausdinkite rezultatą."
   ],
   "metadata": {
    "collapsed": false
   },
   "id": "3be163ccfc21da69"
  },
  {
   "cell_type": "code",
   "execution_count": 23,
   "outputs": [
    {
     "name": "stdout",
     "output_type": "stream",
     "text": [
      "['zigmas', 'petras', 'jonas']\n"
     ]
    }
   ],
   "source": [
    "#Sprendimas:\n",
    "vardai = ['jonas', 'petras', 'zigmas']\n",
    "\n",
    "print (vardai [::-1])\n",
    "\n"
   ],
   "metadata": {
    "collapsed": false,
    "ExecuteTime": {
     "end_time": "2024-02-08T17:53:15.034462800Z",
     "start_time": "2024-02-08T17:53:14.999041400Z"
    }
   },
   "id": "b68aa84241108c70"
  },
  {
   "cell_type": "markdown",
   "source": [
    "### 10. Duotas sąrašas temperatūros su skaičiais. Naudojant sąrašo supratimą (list comprehension), sukurkite naują sąrašą, kuriame būtų tik tie skaičiai, kurie yra didesni nei 20 laipsnių. Atspausdinkite filtruotą sąrašą."
   ],
   "metadata": {
    "collapsed": false
   },
   "id": "7f24161dcba6537e"
  },
  {
   "cell_type": "code",
   "execution_count": 24,
   "outputs": [],
   "source": [
    "#Sprendimas:"
   ],
   "metadata": {
    "collapsed": false,
    "ExecuteTime": {
     "end_time": "2024-02-08T17:53:15.035487300Z",
     "start_time": "2024-02-08T17:53:15.004349800Z"
    }
   },
   "id": "21aa61e00bf71053"
  }
 ],
 "metadata": {
  "kernelspec": {
   "display_name": "Python 3",
   "language": "python",
   "name": "python3"
  },
  "language_info": {
   "codemirror_mode": {
    "name": "ipython",
    "version": 2
   },
   "file_extension": ".py",
   "mimetype": "text/x-python",
   "name": "python",
   "nbconvert_exporter": "python",
   "pygments_lexer": "ipython2",
   "version": "2.7.6"
  }
 },
 "nbformat": 4,
 "nbformat_minor": 5
}
