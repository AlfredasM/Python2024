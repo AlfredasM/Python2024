{
 "cells": [
  {
   "cell_type": "markdown",
   "source": [
    "### 1. Parašykite funkciją, kuri priima skaičių sąrašą ir grąžina didžiausią skaičių iš sąrašo. Negalima naudoti Python funkcijos max()."
   ],
   "metadata": {
    "collapsed": false
   },
   "id": "7df1f3afb7ccd5e6"
  },
  {
   "cell_type": "code",
   "execution_count": 94,
   "outputs": [
    {
     "name": "stdout",
     "output_type": "stream",
     "text": [
      "56\n"
     ]
    }
   ],
   "source": [
    "# Sprendimas:\n",
    "def sarasas(skaiciai):\n",
    "    max_skaicius = skaiciai[0]\n",
    "    for skaicius in skaiciai:\n",
    "        if skaicius > max_skaicius:\n",
    "             max_skaicius = skaicius    \n",
    "    return max_skaicius\n",
    "skaiciai = [10, 2, 22, 3, 56]\n",
    "print(sarasas(skaiciai))"
   ],
   "metadata": {
    "collapsed": false,
    "ExecuteTime": {
     "end_time": "2024-02-12T14:37:45.413809300Z",
     "start_time": "2024-02-12T14:37:45.403798500Z"
    }
   },
   "id": "c57677b25f4b776a"
  },
  {
   "cell_type": "markdown",
   "source": [
    "### 2. Sukurkite funkciją, kuri priima sąrašą elementų ir grąžina sąrašą, kuriame yra tik unikalūs elementai iš pradinio sąrašo."
   ],
   "metadata": {
    "collapsed": false
   },
   "id": "3333930e72a41406"
  },
  {
   "cell_type": "code",
   "execution_count": 95,
   "outputs": [
    {
     "name": "stdout",
     "output_type": "stream",
     "text": [
      "[1, 2, 3, 4]\n"
     ]
    }
   ],
   "source": [
    "# Sprendimas:\n",
    "def sarasas_elementu(elementai):\n",
    "    unikalus_sarasas= []\n",
    "    for elementas in elementai:\n",
    "        if elementas not in unikalus_sarasas:\n",
    "            unikalus_sarasas.append(elementas)\n",
    "            \n",
    "        \n",
    "    return unikalus_sarasas\n",
    "\n",
    "elementai = [1,2,3,4,2]\n",
    "manoFunkcija = sarasas_elementu(elementai)\n",
    "print(manoFunkcija)"
   ],
   "metadata": {
    "collapsed": false,
    "ExecuteTime": {
     "end_time": "2024-02-12T14:37:45.424561100Z",
     "start_time": "2024-02-12T14:37:45.416810400Z"
    }
   },
   "id": "3e06741b66d45a17"
  },
  {
   "cell_type": "markdown",
   "source": [
    "### 3. Parašykite funkciją, kuri priima du parametrus: pradžios skaičių ir sekos ilgį. Funkcija turėtų grąžinti sąrašą, kuriame yra sekos ilgio skaičių seka, pradedant pradžios skaičiumi ir kiekvieną kartą padidinant skaičių vienetu."
   ],
   "metadata": {
    "collapsed": false
   },
   "id": "b5385486e55b18cb"
  },
  {
   "cell_type": "code",
   "execution_count": 96,
   "outputs": [
    {
     "name": "stdout",
     "output_type": "stream",
     "text": [
      "[5, 6, 7, 8, 9]\n"
     ]
    }
   ],
   "source": [
    "# Sprendimas:\n",
    "def generuoti_seka(pradzios_skaicius, sekos_ilgis):\n",
    "    naujos_sekos_sarasas = []\n",
    "    for skaicius in range(sekos_ilgis):\n",
    "        naujos_sekos_sarasas.append(pradzios_skaicius + skaicius)\n",
    "    return naujos_sekos_sarasas\n",
    "\n",
    "pradzios_skaicius = 5\n",
    "sekos_ilgis = 5\n",
    "seka = generuoti_seka(pradzios_skaicius, sekos_ilgis)\n",
    "print(seka)\n",
    "    \n",
    "    "
   ],
   "metadata": {
    "collapsed": false,
    "ExecuteTime": {
     "end_time": "2024-02-12T14:37:45.425554400Z",
     "start_time": "2024-02-12T14:37:45.422191900Z"
    }
   },
   "id": "efafa21aa535202"
  },
  {
   "cell_type": "markdown",
   "source": [
    "### 4. Parašykite funkciją, kuri priima vieną skaičių ir grąžina True, jei skaičius yra pirminis, ir False priešingu atveju."
   ],
   "metadata": {
    "collapsed": false
   },
   "id": "1f11435a54012865"
  },
  {
   "cell_type": "code",
   "execution_count": 97,
   "outputs": [
    {
     "name": "stdout",
     "output_type": "stream",
     "text": [
      "True\n"
     ]
    }
   ],
   "source": [
    "# Sprendimas:\n",
    "def pirminis_skaicius(skaicius):\n",
    "    if skaicius <= 1:\n",
    "        return False\n",
    "    for i in range(2, int(skaicius**0.5)+1):\n",
    "        if skaicius % i == 0:\n",
    "         return False\n",
    "    return True\n",
    "print(pirminis_skaicius(2))"
   ],
   "metadata": {
    "collapsed": false,
    "ExecuteTime": {
     "end_time": "2024-02-12T14:37:45.433972Z",
     "start_time": "2024-02-12T14:37:45.425554400Z"
    }
   },
   "id": "a59fcb4714f6108d"
  },
  {
   "cell_type": "markdown",
   "source": [
    "### 5. Sukurkite funkciją, kuri priima tekstą ir grąžina jį apverstą. Neleidžiama naudoti Python funkcijos [::-1]."
   ],
   "metadata": {
    "collapsed": false
   },
   "id": "c42cc6097dd3f6fd"
  },
  {
   "cell_type": "code",
   "execution_count": 98,
   "outputs": [
    {
     "name": "stdout",
     "output_type": "stream",
     "text": [
      "sula\n"
     ]
    }
   ],
   "source": [
    "# Sprendimas:\n",
    "def atvirkscias(tekstas):\n",
    "    tekstas_atvirksciai = ''\n",
    "    for raide in tekstas:\n",
    "        tekstas_atvirksciai = raide + tekstas_atvirksciai\n",
    "    return tekstas_atvirksciai\n",
    "print(atvirkscias('alus'))\n",
    "        \n"
   ],
   "metadata": {
    "collapsed": false,
    "ExecuteTime": {
     "end_time": "2024-02-12T14:37:45.462971500Z",
     "start_time": "2024-02-12T14:37:45.430713700Z"
    }
   },
   "id": "16c0829622fae905"
  },
  {
   "cell_type": "code",
   "outputs": [],
   "source": [],
   "metadata": {
    "collapsed": false,
    "ExecuteTime": {
     "end_time": "2024-02-12T14:37:45.463971900Z",
     "start_time": "2024-02-12T14:37:45.435963500Z"
    }
   },
   "id": "2d8a92b5f1a46c17",
   "execution_count": 98
  }
 ],
 "metadata": {
  "kernelspec": {
   "display_name": "Python 3",
   "language": "python",
   "name": "python3"
  },
  "language_info": {
   "codemirror_mode": {
    "name": "ipython",
    "version": 2
   },
   "file_extension": ".py",
   "mimetype": "text/x-python",
   "name": "python",
   "nbconvert_exporter": "python",
   "pygments_lexer": "ipython2",
   "version": "2.7.6"
  }
 },
 "nbformat": 4,
 "nbformat_minor": 5
}
