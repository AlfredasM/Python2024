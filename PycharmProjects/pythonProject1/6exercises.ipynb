{
 "cells": [
  {
   "cell_type": "markdown",
   "source": [
    "Uždaviniai"
   ],
   "metadata": {
    "collapsed": false
   },
   "id": "b495281f655161e4"
  },
  {
   "cell_type": "markdown",
   "source": [
    "### 1.Parašykite programą, kuri tikrintų, ar įvestas žodis yra ilgesnis nei 5 raidės. Jei taip, atspausdinkite žinutę apie tai."
   ],
   "metadata": {
    "collapsed": false
   },
   "id": "48757eeaec3a9395"
  },
  {
   "cell_type": "code",
   "execution_count": 2,
   "outputs": [
    {
     "ename": "SyntaxError",
     "evalue": "invalid syntax. Perhaps you forgot a comma? (317815389.py, line 2)",
     "output_type": "error",
     "traceback": [
      "\u001B[1;36m  Cell \u001B[1;32mIn[2], line 2\u001B[1;36m\u001B[0m\n\u001B[1;33m    input = input(parasykite zodi):\u001B[0m\n\u001B[1;37m                  ^\u001B[0m\n\u001B[1;31mSyntaxError\u001B[0m\u001B[1;31m:\u001B[0m invalid syntax. Perhaps you forgot a comma?\n"
     ]
    }
   ],
   "source": [
    "# Sprendimas:\n",
    "input = input(parasykite zodi):\n"
   ],
   "metadata": {
    "collapsed": false,
    "ExecuteTime": {
     "end_time": "2024-02-15T07:02:38.080232Z",
     "start_time": "2024-02-15T07:02:38.049169700Z"
    }
   },
   "id": "839ec4cf89b2c46d"
  },
  {
   "cell_type": "markdown",
   "source": [
    "### 2. Parašykite programą, kuri pagal įvestą mėnesio pavadinimą (pvz., \"Sausis\") nustatytų, kiek dienų yra tame mėnesyje. Naudokite if-elif-else struktūrą."
   ],
   "metadata": {
    "collapsed": false
   },
   "id": "366837dd9ce64bac"
  },
  {
   "cell_type": "code",
   "execution_count": null,
   "outputs": [],
   "source": [
    "# Sprendimas:\n"
   ],
   "metadata": {
    "collapsed": false
   },
   "id": "cc955a26120d00df"
  },
  {
   "cell_type": "markdown",
   "source": [
    "### 3. Sukurkite sąrašą su Lietuvos miestų pavadinimais ir naudodami for ciklą atspausdinkite kiekvieną miestą bei jo eilės numerį sąraše."
   ],
   "metadata": {
    "collapsed": false
   },
   "id": "8c48d4a5fd6a3f7d"
  },
  {
   "cell_type": "code",
   "execution_count": null,
   "outputs": [],
   "source": [
    "# Sprendimas:\n"
   ],
   "metadata": {
    "collapsed": false
   },
   "id": "ab65ba85d25f1513"
  },
  {
   "cell_type": "markdown",
   "source": [
    "### 4. Parašykite programą, kuri atspausdintų daugybos lentelę nuo 1 iki 10."
   ],
   "metadata": {
    "collapsed": false
   },
   "id": "610258d81d0cbd4c"
  },
  {
   "cell_type": "code",
   "execution_count": null,
   "outputs": [],
   "source": [
    "# Sprendimas:\n"
   ],
   "metadata": {
    "collapsed": false
   },
   "id": "b85464cd38c2df2f"
  },
  {
   "cell_type": "markdown",
   "source": [
    "### 5. Sukurkite programą, kuri prašytų vartotoją įvesti slaptažodį ir leistų bandyti iki tol, kol įves teisingą."
   ],
   "metadata": {
    "collapsed": false
   },
   "id": "e60f6f02a4086b9d"
  },
  {
   "cell_type": "code",
   "execution_count": null,
   "outputs": [],
   "source": [
    "# Sprendimas:\n"
   ],
   "metadata": {
    "collapsed": false
   },
   "id": "91e7b39a7e06792a"
  },
  {
   "cell_type": "markdown",
   "source": [
    "### 6. Sukurkite programą, kuri prašytų vartotoją įvesti slaptažodį ir leistų bandyti iki tol, kol įves teisingą."
   ],
   "metadata": {
    "collapsed": false
   },
   "id": "4e9cfcdbcb374fca"
  },
  {
   "cell_type": "code",
   "execution_count": null,
   "outputs": [],
   "source": [
    "# Sprendimas:\n"
   ],
   "metadata": {
    "collapsed": false
   },
   "id": "41f7aa26b52bdcc3"
  },
  {
   "cell_type": "markdown",
   "source": [
    "### 7. Parašykite programą, kuri generuotų atsitiktinius skaičius ir juos sumuotų, kol suma viršys 100. Naudokite random moduli."
   ],
   "metadata": {
    "collapsed": false
   },
   "id": "ad954629d2d2d6be"
  },
  {
   "cell_type": "code",
   "execution_count": null,
   "outputs": [],
   "source": [
    "# Sprendimas:\n"
   ],
   "metadata": {
    "collapsed": false
   },
   "id": "65df28a62d75393"
  },
  {
   "cell_type": "markdown",
   "source": [
    "### 8. Sukurkite žaidimą, kuriame kompiuteris sugalvoja skaičių nuo 1 iki 100, o žaidėjas turi jį atspėti. Naudokite while ciklą žaidimui."
   ],
   "metadata": {
    "collapsed": false
   },
   "id": "b809f24f2491ccc4"
  },
  {
   "cell_type": "code",
   "execution_count": null,
   "outputs": [],
   "source": [
    "# Sprendimas:\n"
   ],
   "metadata": {
    "collapsed": false
   },
   "id": "15f6fd697d89300f"
  },
  {
   "cell_type": "markdown",
   "source": [
    "### 9. Parašykite programą, kuri naudojant while ciklą atspausdintų skaičius nuo 1 iki n, kur n yra vartotojo įvestas skaičius."
   ],
   "metadata": {
    "collapsed": false
   },
   "id": "9ab4e78035d7a6c6"
  },
  {
   "cell_type": "code",
   "execution_count": null,
   "outputs": [],
   "source": [
    "# Sprendimas:\n"
   ],
   "metadata": {
    "collapsed": false
   },
   "id": "b44a65e81a5c277d"
  },
  {
   "cell_type": "markdown",
   "source": [
    "### 10. Parašykite programą, kuri leistų vartotojui įvesti savo mėgstamiausių knygų pavadinimus ir saugotų juos sąraše."
   ],
   "metadata": {
    "collapsed": false
   },
   "id": "f8097a8c6115c1c1"
  },
  {
   "cell_type": "code",
   "execution_count": null,
   "outputs": [],
   "source": [
    "# Sprendimas:\n"
   ],
   "metadata": {
    "collapsed": false
   },
   "id": "6aca5bddd3f6116d"
  },
  {
   "cell_type": "markdown",
   "source": [
    "### 11. Sukurkite programą, kuri saugotų žmonių vardus ir jų telefono numerius žodyne."
   ],
   "metadata": {
    "collapsed": false
   },
   "id": "dc8eb0ca4d57c96f"
  },
  {
   "cell_type": "code",
   "execution_count": null,
   "outputs": [],
   "source": [
    "# Sprendimas:\n"
   ],
   "metadata": {
    "collapsed": false
   },
   "id": "3c2239a6208ba39f"
  },
  {
   "cell_type": "markdown",
   "source": [
    "### 12.Parašykite programą, kuri suskaičiuotų, kiek kartų kiekvienas žodis pasikartoja duotame tekste (naudokite žodyną)."
   ],
   "metadata": {
    "collapsed": false
   },
   "id": "94e557d52f17ab97"
  },
  {
   "cell_type": "code",
   "execution_count": null,
   "outputs": [],
   "source": [
    "# Sprendimas:\n"
   ],
   "metadata": {
    "collapsed": false
   },
   "id": "714c0e88dc9e78ce"
  },
  {
   "cell_type": "markdown",
   "source": [
    "### 13. Sukurkite programą, kuri leistų vartotojui įvesti prekių pavadinimus ir jų kiekį, o paskui atspausdintų visą krepšelio turinį."
   ],
   "metadata": {
    "collapsed": false
   },
   "id": "4f503e820a02afc7"
  },
  {
   "cell_type": "code",
   "execution_count": null,
   "outputs": [],
   "source": [
    "# Sprendimas:\n"
   ],
   "metadata": {
    "collapsed": false
   },
   "id": "94b805068c9e75f"
  },
  {
   "cell_type": "markdown",
   "source": [
    "### 14.Parašykite programą, kuri saugotų studentų vardus ir jų pažymius sąraše, o paskui naudodama žodyną grupuotų juos pagal pažymių vidurkį."
   ],
   "metadata": {
    "collapsed": false
   },
   "id": "b75e7b946e2b93a1"
  },
  {
   "cell_type": "code",
   "execution_count": null,
   "outputs": [],
   "source": [
    "# Sprendimas:\n"
   ],
   "metadata": {
    "collapsed": false
   },
   "id": "42561f88a009ae8d"
  },
  {
   "cell_type": "markdown",
   "source": [
    "### 15. Parašykite funkciją, kuri priimtų skaičių sąrašą ir grąžintų naują sąrašą, kuriame būtų tik tie skaičiai, kurie dalijasi iš 2."
   ],
   "metadata": {
    "collapsed": false
   },
   "id": "9fe00cb8af694c79"
  },
  {
   "cell_type": "code",
   "execution_count": null,
   "outputs": [],
   "source": [
    "# Sprendimas:\n"
   ],
   "metadata": {
    "collapsed": false
   },
   "id": "7816c53a9d49c1a3"
  },
  {
   "cell_type": "markdown",
   "source": [
    "### 16. Parašykite programą, kuri pagal įvestą suvartotų kilovatų skaičių apskaičiuotų mėnesio mokestį už elektrą, taikant skirtingas tarifų zonas."
   ],
   "metadata": {
    "collapsed": false
   },
   "id": "6a4b43ba1ff4b296"
  },
  {
   "cell_type": "code",
   "execution_count": null,
   "outputs": [],
   "source": [
    "# Sprendimas:\n"
   ],
   "metadata": {
    "collapsed": false
   },
   "id": "1b65438160753f9d"
  },
  {
   "cell_type": "markdown",
   "source": [
    "### 17. Parašykite programą, kuri rastų bendrus elementus tarp dviejų skirtingų sąrašų."
   ],
   "metadata": {
    "collapsed": false
   },
   "id": "be175ea2c07d09d7"
  },
  {
   "cell_type": "code",
   "execution_count": null,
   "outputs": [],
   "source": [
    "# Sprendimas:\n"
   ],
   "metadata": {
    "collapsed": false
   },
   "id": "e7288f7a5d4c4a6e"
  },
  {
   "cell_type": "markdown",
   "source": [
    "### 18. Sukurkite žaidimą, kuriame vartotojas \"investuoja\" įvirtualią akciją. Akcijos kaina kinta atsitiktinai. Žaidimas tęsiasi, kol vartotojas nusprendžia pasiimti pelną arba kol \"investicija\" nukrenta iki 0."
   ],
   "metadata": {
    "collapsed": false
   },
   "id": "d7dcf759896371c1"
  },
  {
   "cell_type": "code",
   "execution_count": null,
   "outputs": [],
   "source": [
    "# Sprendimas:\n"
   ],
   "metadata": {
    "collapsed": false
   },
   "id": "5c2741249a354397"
  },
  {
   "cell_type": "markdown",
   "source": [
    "### 19. Parašykite programą, kuri skaitytų tekstą iš failo ir suskaičiuotų, kiek kartų kiekvienas žodis pasikartoja faile."
   ],
   "metadata": {
    "collapsed": false
   },
   "id": "84204bf9dc62fd6a"
  },
  {
   "cell_type": "code",
   "execution_count": null,
   "outputs": [],
   "source": [
    "# Sprendimas:\n"
   ],
   "metadata": {
    "collapsed": false
   },
   "id": "c54a078a5c76ee31"
  },
  {
   "cell_type": "markdown",
   "source": [
    "### 20. Parašykite programą, kuri nuskaitytų JSON failą su vartotojų duomenimis ir atspausdintų vartotojų vardus ir amžius."
   ],
   "metadata": {
    "collapsed": false
   },
   "id": "850d4f8484dc5f68"
  },
  {
   "cell_type": "code",
   "execution_count": null,
   "outputs": [],
   "source": [
    "# Sprendimas:\n"
   ],
   "metadata": {
    "collapsed": false
   },
   "id": "ffc6c8d042f4dcac"
  },
  {
   "cell_type": "markdown",
   "source": [
    "### 21. Parašykite programą, kuri skaitytų tekstą iš failo ir suskaičiuotų, kiek kartų kiekvienas žodis pasikartoja faile."
   ],
   "metadata": {
    "collapsed": false
   },
   "id": "c67cf7ebe75b261e"
  },
  {
   "cell_type": "code",
   "execution_count": null,
   "outputs": [],
   "source": [
    "# Sprendimas:\n"
   ],
   "metadata": {
    "collapsed": false
   },
   "id": "5d517806665d874d"
  },
  {
   "cell_type": "markdown",
   "source": [
    "### 22. Parašykite programą, kuri pagal įvestą atstumą kilometrais ir vidutinį automobilio sunaudojamą kuro kiekį litrais per 100 km apskaičiuotų, kiek kuro reikės kelionei ir kiek tai kainuos, jei žinomas kuro litro kaina."
   ],
   "metadata": {
    "collapsed": false
   },
   "id": "4d6d004938dab5a9"
  },
  {
   "cell_type": "code",
   "execution_count": null,
   "outputs": [],
   "source": [
    "# Sprendimas:\n"
   ],
   "metadata": {
    "collapsed": false
   },
   "id": "90094725090d442a"
  },
  {
   "cell_type": "markdown",
   "source": [
    "### 23. Remiantis mokinio gyvenamąja vieta (miestu), nustatykite, į kurią mokyklą (A, B, ar C) jis turėtų eiti. Naudokite žodyną miestams ir sąrašus mokykloms saugoti."
   ],
   "metadata": {
    "collapsed": false
   },
   "id": "23c9777be3fefa3c"
  },
  {
   "cell_type": "code",
   "execution_count": null,
   "outputs": [],
   "source": [
    "# Sprendimas:\n"
   ],
   "metadata": {
    "collapsed": false
   },
   "id": "f3b1f77c0a556632"
  },
  {
   "cell_type": "markdown",
   "source": [
    "### 24. Sukurkite programą, kuri leistų vartotojui įvesti keliones (data, vieta, aprašymas) ir saugotų jas sąraše. Pateikite funkcionalumą kelionių peržiūrai, pridėjimui, ir šalinimui."
   ],
   "metadata": {
    "collapsed": false
   },
   "id": "c599b392745216b7"
  },
  {
   "cell_type": "code",
   "execution_count": null,
   "outputs": [],
   "source": [
    "# Sprendimas:\n"
   ],
   "metadata": {
    "collapsed": false
   },
   "id": "a3f5b20f4791712e"
  },
  {
   "cell_type": "markdown",
   "source": [
    "### 25.Sukurkite programą, kuri, turėdama tam tikrą monetų rinkinį (pvz., 1, 2, 5, 10 centų) ir norimą sumą, apskaičiuotų mažiausią būtiną monetų skaičių, reikalingą norimai sumai sudaryti."
   ],
   "metadata": {
    "collapsed": false
   },
   "id": "a8238a0ec5e2d33f"
  },
  {
   "cell_type": "code",
   "execution_count": null,
   "outputs": [],
   "source": [
    "# Sprendimas:\n"
   ],
   "metadata": {
    "collapsed": false
   },
   "id": "dc6e87229afbb509"
  },
  {
   "cell_type": "markdown",
   "source": [
    "### 26. Sukurkite programą, kuri prašytų vartotojo įvesti skaičių. Jei vartotojas įveda ne skaičių, programa turėtų parodyti klaidos pranešimą ir leisti bandyti dar kartą."
   ],
   "metadata": {
    "collapsed": false
   },
   "id": "6e055b512200c764"
  },
  {
   "cell_type": "code",
   "execution_count": null,
   "outputs": [],
   "source": [
    "# Sprendimas:\n"
   ],
   "metadata": {
    "collapsed": false
   },
   "id": "6cc810329fd0b40d"
  },
  {
   "cell_type": "markdown",
   "source": [
    "### 27. Parašykite programą, kuri bandytų atidaryti failą skaitymui. Jei failas neegzistuoja, programa turėtų informuoti vartotoją apie klaidą ir leisti įvesti kito failo pavadinimą."
   ],
   "metadata": {
    "collapsed": false
   },
   "id": "6e7ada0acc5f6715"
  },
  {
   "cell_type": "code",
   "execution_count": null,
   "outputs": [],
   "source": [
    "# Sprendimas:\n"
   ],
   "metadata": {
    "collapsed": false
   },
   "id": "cab3f1b14ae0fd4a"
  },
  {
   "cell_type": "markdown",
   "source": [
    "### 28. Parašykite programą, kuri leistų vartotojui įrašyti savo dienos įvykius į failą, o vėliau juos peržiūrėti."
   ],
   "metadata": {
    "collapsed": false
   },
   "id": "a28303d48d18f145"
  },
  {
   "cell_type": "code",
   "execution_count": null,
   "outputs": [],
   "source": [
    "# Sprendimas:\n"
   ],
   "metadata": {
    "collapsed": false
   },
   "id": "378e61d3109d3c9d"
  },
  {
   "cell_type": "markdown",
   "source": [
    "### 29. Parašykite funkciją, kuri priimtų kainą be PVM ir PVM tarifą (pvz., 21% Lietuvoje), o grąžintų galutinę kainą su PVM."
   ],
   "metadata": {
    "collapsed": false
   },
   "id": "5f3f3c1d81c3306c"
  },
  {
   "cell_type": "code",
   "execution_count": null,
   "outputs": [],
   "source": [
    "# Sprendimas:\n"
   ],
   "metadata": {
    "collapsed": false
   },
   "id": "d0b6aadfb44df1c9"
  },
  {
   "cell_type": "markdown",
   "source": [
    "### 30.Parašykite funkciją, kuri apskaičiuotų galutinę sumą, gautą taikant fiksuotas palūkanas pradinei sumai per n metų."
   ],
   "metadata": {
    "collapsed": false
   },
   "id": "208153f8d27d78eb"
  },
  {
   "cell_type": "code",
   "execution_count": null,
   "outputs": [],
   "source": [
    "# Sprendimas:\n"
   ],
   "metadata": {
    "collapsed": false
   },
   "id": "6be5927d50e449c0"
  }
 ],
 "metadata": {
  "kernelspec": {
   "display_name": "Python 3",
   "language": "python",
   "name": "python3"
  },
  "language_info": {
   "codemirror_mode": {
    "name": "ipython",
    "version": 2
   },
   "file_extension": ".py",
   "mimetype": "text/x-python",
   "name": "python",
   "nbconvert_exporter": "python",
   "pygments_lexer": "ipython2",
   "version": "2.7.6"
  }
 },
 "nbformat": 4,
 "nbformat_minor": 5
}
