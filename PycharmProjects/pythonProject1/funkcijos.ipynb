{
 "cells": [
  {
   "cell_type": "markdown",
   "source": [
    "# Funkcijos"
   ],
   "metadata": {
    "collapsed": false
   },
   "id": "8c2cf816b56128f3"
  },
  {
   "cell_type": "markdown",
   "source": [
    "### 1. Parašykite funkciją, kuri grąžina dviejų skaičių sumą"
   ],
   "metadata": {
    "collapsed": false
   },
   "id": "204fb0920957bdea"
  },
  {
   "cell_type": "code",
   "execution_count": 1,
   "outputs": [
    {
     "name": "stdout",
     "output_type": "stream",
     "text": [
      "Suma:15\n"
     ]
    }
   ],
   "source": [
    "# Sprendimas:\n",
    "def suma(x, y):\n",
    "    print(f\"Suma:{x+y}\")\n",
    "    \n",
    "suma(5, 10)"
   ],
   "metadata": {
    "collapsed": false,
    "ExecuteTime": {
     "end_time": "2024-02-12T16:39:03.119366400Z",
     "start_time": "2024-02-12T16:39:03.098733900Z"
    }
   },
   "id": "54da5566e18b47a"
  },
  {
   "cell_type": "markdown",
   "source": [
    "### 2. Sukurkite funkciją, kuri priima sąrašą skaičių ir grąžina jų vidurkį."
   ],
   "metadata": {
    "collapsed": false
   },
   "id": "a1d9b9493b19ef70"
  },
  {
   "cell_type": "code",
   "execution_count": 2,
   "outputs": [
    {
     "name": "stdout",
     "output_type": "stream",
     "text": [
      "25.0\n"
     ]
    }
   ],
   "source": [
    "# Sprendimas:\n",
    "def vidurkis(skaiciai):\n",
    "    if not skaiciai:\n",
    "        return 0\n",
    "    return sum(skaiciai) / len (skaiciai)\n",
    "skaiciu_sarasas = [10, 20, 30, 40]\n",
    "vidurkis = vidurkis (skaiciu_sarasas)\n",
    "print (vidurkis)"
   ],
   "metadata": {
    "collapsed": false,
    "ExecuteTime": {
     "end_time": "2024-02-12T16:39:03.120458700Z",
     "start_time": "2024-02-12T16:39:03.105950900Z"
    }
   },
   "id": "4f13185250d0d7bf"
  },
  {
   "cell_type": "markdown",
   "source": [
    "### 3. Parašykite funkciją, kuri priima sąrašą skaičių ir grąžina tik tuos skaičius, kurie yra lyginiai."
   ],
   "metadata": {
    "collapsed": false
   },
   "id": "2e895c98f63bc86b"
  },
  {
   "cell_type": "code",
   "execution_count": 3,
   "outputs": [
    {
     "name": "stdout",
     "output_type": "stream",
     "text": [
      "[10]\n"
     ]
    }
   ],
   "source": [
    "# Sprendimas:\n",
    "def rasti_lyginiai(skaiciai):\n",
    "    lyginiai_skaiciai = []\n",
    "    for sk in skaiciai:\n",
    "        if sk % 2==0:\n",
    "            lyginiai_skaiciai.append(sk)\n",
    "    return lyginiai_skaiciai\n",
    "skaiciu_sarasas = [10, 11, 13]\n",
    "lyginiai_skaiciai = rasti_lyginiai(skaiciu_sarasas)\n",
    "print (lyginiai_skaiciai)\n",
    "      \n",
    "           \n",
    "    "
   ],
   "metadata": {
    "collapsed": false,
    "ExecuteTime": {
     "end_time": "2024-02-12T16:39:03.120961500Z",
     "start_time": "2024-02-12T16:39:03.109452800Z"
    }
   },
   "id": "30731fc817cf73b5"
  },
  {
   "cell_type": "markdown",
   "source": [
    "### 4. Sukurkite funkciją, kuri priima žodį ir grąžina kiek kartų kiekviena raidė pasikartoja žodyje."
   ],
   "metadata": {
    "collapsed": false
   },
   "id": "dbaa3c5fce5479df"
  },
  {
   "cell_type": "code",
   "execution_count": 4,
   "outputs": [
    {
     "name": "stdout",
     "output_type": "stream",
     "text": [
      "{'S': 1, 't': 2, 'u': 1, 'd': 1, 'e': 1, 'n': 1, 'a': 1, 'i': 1}\n"
     ]
    }
   ],
   "source": [
    "# Sprendimas:\n",
    "def raidziu_pasikartojimas(zodis):\n",
    "    raidziu_skaicius = {}\n",
    "    for raide in zodis:\n",
    "        if raide in raidziu_skaicius:\n",
    "            raidziu_skaicius[raide] += 1\n",
    "        else:\n",
    "            raidziu_skaicius[raide] = 1\n",
    "\n",
    "    return raidziu_skaicius\n",
    "\n",
    "zodis = \"Studentai\"\n",
    "manoFunkcija = raidziu_pasikartojimas(zodis)\n",
    "print(manoFunkcija)\n",
    "        \n",
    "        \n"
   ],
   "metadata": {
    "collapsed": false,
    "ExecuteTime": {
     "end_time": "2024-02-12T16:39:03.159437300Z",
     "start_time": "2024-02-12T16:39:03.113797900Z"
    }
   },
   "id": "b7cb834a8218f590"
  },
  {
   "cell_type": "markdown",
   "source": [
    "### 5. Parašykite funkciją, kuri priima sąrašą žodžių ir grąžina sąrašą, kur kiekvienas žodis pakeistas jo ilgio skaičiumi."
   ],
   "metadata": {
    "collapsed": false
   },
   "id": "b7400587fdd6e29a"
  },
  {
   "cell_type": "code",
   "execution_count": 5,
   "outputs": [
    {
     "name": "stdout",
     "output_type": "stream",
     "text": [
      "[3, 5, 7, 6]\n"
     ]
    }
   ],
   "source": [
    "# Sprendimas:\n",
    "def zodziu_ilgiai(sarasas):\n",
    "    ilgiu_sarasas = []\n",
    "    for zodis in sarasas:\n",
    "        ilgiu_sarasas.append(len(zodis))\n",
    "    return ilgiu_sarasas\n",
    "zodziu_sarasas = ['Man', \"Labai\", 'patinka', 'Phyton']\n",
    "ilgiu_sarasas = zodziu_ilgiai (zodziu_sarasas)\n",
    "print(ilgiu_sarasas)"
   ],
   "metadata": {
    "collapsed": false,
    "ExecuteTime": {
     "end_time": "2024-02-12T16:39:03.161454100Z",
     "start_time": "2024-02-12T16:39:03.118327200Z"
    }
   },
   "id": "c88aafea895fbe8d"
  },
  {
   "cell_type": "code",
   "outputs": [],
   "source": [],
   "metadata": {
    "collapsed": false,
    "ExecuteTime": {
     "end_time": "2024-02-12T16:39:03.161454100Z",
     "start_time": "2024-02-12T16:39:03.124017300Z"
    }
   },
   "id": "75f2a6ec4a67e0da",
   "execution_count": 5
  }
 ],
 "metadata": {
  "kernelspec": {
   "display_name": "Python 3",
   "language": "python",
   "name": "python3"
  },
  "language_info": {
   "codemirror_mode": {
    "name": "ipython",
    "version": 2
   },
   "file_extension": ".py",
   "mimetype": "text/x-python",
   "name": "python",
   "nbconvert_exporter": "python",
   "pygments_lexer": "ipython2",
   "version": "2.7.6"
  }
 },
 "nbformat": 4,
 "nbformat_minor": 5
}
