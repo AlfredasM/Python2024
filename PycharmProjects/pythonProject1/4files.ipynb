{
 "cells": [
  {
   "cell_type": "markdown",
   "source": [
    "# Failų valdymas "
   ],
   "metadata": {
    "collapsed": false
   },
   "id": "b8b42273ea5be890"
  },
  {
   "cell_type": "markdown",
   "source": [
    "### 1. Sukurkite tekstinį failą tekstas.txt ir įrašykite kelias eilutes tekstą. Parašykite skriptą, kuris atidarytų šį failą skaitymui ir atspausdintų kiekvienos eilutės numerį bei turinį."
   ],
   "metadata": {
    "collapsed": false
   },
   "id": "4a396352452bcdcd"
  },
  {
   "cell_type": "code",
   "execution_count": 63,
   "outputs": [],
   "source": [
    "# Sprendimas:\n",
    "# tekstas1 = \"testas1\"\n",
    "# tekstas2 = \"\\ntestas2\"\n",
    "# tekstas3 = \"\\ntestas3\"\n",
    "# with open('tekstas.txt', 'w', encoding='utf-8') as file:\n",
    "#     file.write(tekstas1)\n",
    "#     file.write(tekstas2)\n",
    "#     file.write(tekstas3)\n",
    "#     #file.seek(0)\n",
    "#     #tekstas_faile = file.read()\n",
    "#     #print(tekstas_faile)\n",
    "# with open('tekstas.txt', 'r', encoding='utf-8') as file:\n",
    "#     for eilute_numeris, eilute in enumerate(file, start=1):\n",
    "#         print(f\"{eilute_numeris}: {eilute.strip()}\")"
   ],
   "metadata": {
    "collapsed": false,
    "ExecuteTime": {
     "end_time": "2024-02-13T10:32:36.186293500Z",
     "start_time": "2024-02-13T10:32:36.175622100Z"
    }
   },
   "id": "257ebd47a3ad1d76"
  },
  {
   "cell_type": "markdown",
   "source": [
    "### 2.Sukurkite tekstinių failą zodziai.txt su žodžiais, kiekvienas žodis naujoje eilutėje. Parašykite skriptą, kuris filtruotų ir atspausdintų žodžius, prasidedančius raide \"a\"."
   ],
   "metadata": {
    "collapsed": false
   },
   "id": "4d3cc0a40c1baf6c"
  },
  {
   "cell_type": "code",
   "execution_count": 64,
   "outputs": [
    {
     "ename": "SyntaxError",
     "evalue": "invalid syntax (629174154.py, line 1)",
     "output_type": "error",
     "traceback": [
      "\u001B[1;36m  Cell \u001B[1;32mIn[64], line 1\u001B[1;36m\u001B[0m\n\u001B[1;33m    Sprendimas:\u001B[0m\n\u001B[1;37m               ^\u001B[0m\n\u001B[1;31mSyntaxError\u001B[0m\u001B[1;31m:\u001B[0m invalid syntax\n"
     ]
    }
   ],
   "source": [
    "Sprendimas:\n",
    "# tekstas = 'Pavasaris \\nateina \\ntuoj \\nsuzaliuos \\nananasas'\n",
    "# with open (\"zodziai.txt\", \"w\", encoding='utf-8') as file:\n",
    "#      file.write(tekstas)\n",
    "# with open(\"zodziai.txt\", \"r\", encoding='utf-8') as file:\n",
    "#      for zodis in file:\n",
    "#           zodis = zodis.strip()\n",
    "#           if zodis[0] == \"a\":\n",
    "#                print(zodis)\n",
    "    \n",
    "    \n",
    "    "
   ],
   "metadata": {
    "collapsed": false,
    "ExecuteTime": {
     "end_time": "2024-02-13T10:32:36.202464500Z",
     "start_time": "2024-02-13T10:32:36.178072800Z"
    }
   },
   "id": "7e861e0c0ce02631"
  },
  {
   "cell_type": "markdown",
   "source": [
    "### 3. Turite pradinį JSON failą studentai.json. Parašykite skriptą, kuris pridėtų naują studentą prie sąrašo ir išsaugotų failą."
   ],
   "metadata": {
    "collapsed": false
   },
   "id": "1cffa32c6bc17724"
  },
  {
   "cell_type": "code",
   "execution_count": null,
   "outputs": [],
   "source": [
    "# Sprendimas:\n",
    "import json\n",
    "\n",
    "def atnaujinti_json_faila(failo_pavadinimas, atnaujinimo_rezimas):\n",
    "    try:\n",
    "        with open(failo_pavadinimas, 'r', encoding='utf-8') as file:\n",
    "             duomenys = json.load(file)\n",
    "    except FileNotFoundError:\n",
    "        duomenys = {}\n",
    "\n",
    "    duomenys = atnaujinimo_rezimas(duomenys)\n",
    "\n",
    "    with open(failo_pavadinimas, 'w', encoding='utf-8') as file:\n",
    "        json.dump(duomenys, file, ensure_ascii=False, indent=4)\n",
    "        \n",
    "def prideti_nauja_studenta(duomenys):\n",
    "    if 'studentai' not in duomenys:\n",
    "        duomenys['studentai'] = []\n",
    "    duomenys['studentai'].append({\n",
    "        \"vardas\": \"Petras\",\n",
    "        \"amžius\": 25,\n",
    "        \"studijų programa\": \"Chemija\"\n",
    "    })\n",
    "    return duomenys\n",
    "\n",
    "\n",
    "atnaujinti_json_faila('studentai.json', prideti_nauja_studenta)\n",
    "\n"
   ],
   "metadata": {
    "collapsed": false,
    "ExecuteTime": {
     "end_time": "2024-02-13T10:32:36.210467400Z",
     "start_time": "2024-02-13T10:32:36.203465Z"
    }
   },
   "id": "1d1aca08571b949d"
  },
  {
   "cell_type": "code",
   "outputs": [],
   "source": [],
   "metadata": {
    "collapsed": false,
    "ExecuteTime": {
     "end_time": "2024-02-13T10:32:39.120676600Z",
     "start_time": "2024-02-13T10:32:39.113679300Z"
    }
   },
   "id": "665aa50cb0445311",
   "execution_count": 64
  },
  {
   "cell_type": "code",
   "outputs": [],
   "source": [],
   "metadata": {
    "collapsed": false
   },
   "id": "843ebb6740904cd1"
  }
 ],
 "metadata": {
  "kernelspec": {
   "display_name": "Python 3",
   "language": "python",
   "name": "python3"
  },
  "language_info": {
   "codemirror_mode": {
    "name": "ipython",
    "version": 2
   },
   "file_extension": ".py",
   "mimetype": "text/x-python",
   "name": "python",
   "nbconvert_exporter": "python",
   "pygments_lexer": "ipython2",
   "version": "2.7.6"
  }
 },
 "nbformat": 4,
 "nbformat_minor": 5
}
