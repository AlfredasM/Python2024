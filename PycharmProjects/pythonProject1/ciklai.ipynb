{
 "cells": [
  {
   "cell_type": "markdown",
   "source": [
    "# For ciklas"
   ],
   "metadata": {
    "collapsed": false
   },
   "id": "57489d0868d3b313"
  },
  {
   "cell_type": "markdown",
   "source": [
    "### 1. Parašykite Python programą, naudodami for ciklą, kuri suskaičiuotų ir atspausdintų sumą visų skaičių nuo 1 iki 100."
   ],
   "metadata": {
    "collapsed": false
   },
   "id": "f303f59b6ff3e2a1"
  },
  {
   "cell_type": "code",
   "execution_count": 242,
   "outputs": [
    {
     "name": "stdout",
     "output_type": "stream",
     "text": [
      "5050\n"
     ]
    }
   ],
   "source": [
    "# Sprendimas:\n",
    "simtas = range(1,101)\n",
    "suma = 0\n",
    "for skaicius in simtas:\n",
    "    suma = suma + skaicius\n",
    "print (suma)"
   ],
   "metadata": {
    "collapsed": false,
    "ExecuteTime": {
     "end_time": "2024-02-09T09:01:53.519579800Z",
     "start_time": "2024-02-09T09:01:53.486213300Z"
    }
   },
   "id": "3840d2662ad935f4"
  },
  {
   "cell_type": "markdown",
   "source": [
    "### 2. Duota sakinys \"Labas rytas, pasauli\". Parašykite programą, kuri naudodama for ciklą, suskaičiuotų, kiek žodžių yra šiame sakinyje."
   ],
   "metadata": {
    "collapsed": false
   },
   "id": "82ca1a24fb827931"
  },
  {
   "cell_type": "code",
   "execution_count": 243,
   "outputs": [
    {
     "name": "stdout",
     "output_type": "stream",
     "text": [
      "Bendras zodziu skaicius sakinyje yra:3\n"
     ]
    }
   ],
   "source": [
    "# Sprendimas:\n",
    "sakinys = [\"Labas rytas, pasauli\"]\n",
    "\n",
    "bendras_zodziu_skaicius = 0\n",
    "\n",
    "\n",
    "for zodziai in sakinys:\n",
    "    \n",
    "    bendras_zodziu_skaicius +=len(zodziai.split())\n",
    "    \n",
    "print (f\"Bendras zodziu skaicius sakinyje yra:{bendras_zodziu_skaicius}\")"
   ],
   "metadata": {
    "collapsed": false,
    "ExecuteTime": {
     "end_time": "2024-02-09T09:01:53.547499300Z",
     "start_time": "2024-02-09T09:01:53.523579800Z"
    }
   },
   "id": "cd3082ef2734deca"
  },
  {
   "cell_type": "markdown",
   "source": [
    "### 3. Parašykite programą, kuri naudodama for ciklą, atspausdintų eilutę \"Labas\" atvirkštine tvarka."
   ],
   "metadata": {
    "collapsed": false
   },
   "id": "534f92e62bc13754"
  },
  {
   "cell_type": "code",
   "execution_count": 244,
   "outputs": [
    {
     "name": "stdout",
     "output_type": "stream",
     "text": [
      "sabaL\n"
     ]
    }
   ],
   "source": [
    "# Sprendimas:\n",
    "zodis = \"Labas\"\n",
    "atvirksciai = \"\"\n",
    "for raide in zodis:\n",
    "    atvirksciai = raide + atvirksciai\n",
    "print (atvirksciai)\n"
   ],
   "metadata": {
    "collapsed": false,
    "ExecuteTime": {
     "end_time": "2024-02-09T09:01:53.574277500Z",
     "start_time": "2024-02-09T09:01:53.550499700Z"
    }
   },
   "id": "d370c21b5a7d023"
  },
  {
   "cell_type": "markdown",
   "source": [
    "### 4. Sukurkite darbuotojai sąrašą kuriame turime žodyną naudodami for ciklą, atspausdinkite kiekvieno darbuotojo vardą ir atlyginimą, taip pat apskaičiuokite ir atspausdinkite vidutinį atlyginimą."
   ],
   "metadata": {
    "collapsed": false
   },
   "id": "71acbf4672a761b3"
  },
  {
   "cell_type": "code",
   "execution_count": 245,
   "outputs": [
    {
     "name": "stdout",
     "output_type": "stream",
     "text": [
      "darbuotojas  Jonas, atlyginimas:500\n",
      "darbuotojas  Ona, atlyginimas:2000\n",
      "darbuotojas  Juozas, atlyginimas:2000\n",
      "vidutinis atlyginimas = 1500.0\n"
     ]
    }
   ],
   "source": [
    "# Sprendimas:\n",
    "darbuotojai = [\n",
    "    {'Vardas': \"Jonas\",\n",
    "     \"Atlyginimas\": 500},\n",
    "\n",
    "    {'Vardas': \"Ona\",\n",
    "     \"Atlyginimas\": 2000},\n",
    "\n",
    "    {'Vardas': \"Juozas\",\n",
    "     'Atlyginimas': 2000}\n",
    "]\n",
    "bendras_atlyginimas = 0\n",
    "for darbuotojas in darbuotojai:\n",
    "    bendras_atlyginimas = bendras_atlyginimas + darbuotojas['Atlyginimas']\n",
    "    print(f\"darbuotojas  {darbuotojas['Vardas']}, atlyginimas:{darbuotojas['Atlyginimas']}\")\n",
    "\n",
    "\n",
    "\n",
    "vidutinis_atlyginimas = bendras_atlyginimas / len(darbuotojai)\n",
    "\n",
    "print(f\"vidutinis atlyginimas = {vidutinis_atlyginimas}\")\n",
    "   "
   ],
   "metadata": {
    "collapsed": false,
    "ExecuteTime": {
     "end_time": "2024-02-09T09:01:53.627757100Z",
     "start_time": "2024-02-09T09:01:53.576278500Z"
    }
   },
   "id": "a5fda34df91448e0"
  },
  {
   "cell_type": "markdown",
   "source": [
    "### 5. Turite žodyną, kuris žymi kategorijas kiekvienai prekei, (obuolys = vaisiai) ir sąrašą prekių (prekes = obuolys, bulvė). Naudodami for ciklą, sukurkite žodyną, kuris grupuotų prekes pagal jų kategorijas."
   ],
   "metadata": {
    "collapsed": false
   },
   "id": "8988b57138179be2"
  },
  {
   "cell_type": "code",
   "execution_count": 246,
   "outputs": [
    {
     "name": "stdout",
     "output_type": "stream",
     "text": [
      "{'vaisiai': ['obuolys', 'slyva'], 'darzoves': ['bulve']}\n"
     ]
    }
   ],
   "source": [
    "# Sprendimas:\n",
    "kategorijos ={\n",
    "'obuolys': 'vaisiai',\n",
    " 'slyva': 'vaisiai',\n",
    " 'bulve': 'darzoves',\n",
    "'agurkas': 'darzoves'\n",
    "    \n",
    "}\n",
    "prekes = [\n",
    "    'obuolys', 'bulve', 'slyva'\n",
    "]\n",
    "\n",
    "grupuoti_pagal_kategorija = {\n",
    "    \n",
    "}\n",
    "\n",
    "for preke in prekes:\n",
    "    kategorija = kategorijos [preke]\n",
    "    if kategorija in grupuoti_pagal_kategorija:\n",
    "        grupuoti_pagal_kategorija[kategorija].append(preke)\n",
    "    else:\n",
    "        grupuoti_pagal_kategorija [kategorija] = [preke]\n",
    "print (grupuoti_pagal_kategorija)"
   ],
   "metadata": {
    "collapsed": false,
    "ExecuteTime": {
     "end_time": "2024-02-09T09:01:53.628757300Z",
     "start_time": "2024-02-09T09:01:53.594283900Z"
    }
   },
   "id": "e6fb2ca3a2849bc3"
  },
  {
   "cell_type": "markdown",
   "source": [
    "# While ciklas"
   ],
   "metadata": {
    "collapsed": false
   },
   "id": "e3e20f9bb9a9a409"
  },
  {
   "cell_type": "markdown",
   "source": [
    "### 1. Parašykite programą, kuri naudodama while ciklą, prašo vartotojo įvesti teigiamą skaičių. Jei įvestas skaičius neigiamas, programa prašo įvesti skaičių iš naujo."
   ],
   "metadata": {
    "collapsed": false
   },
   "id": "ff6535106eacf680"
  },
  {
   "cell_type": "code",
   "execution_count": 247,
   "outputs": [],
   "source": [
    "# # Sprendimas:\n",
    "# ivestis = -1\n",
    "# while ivestis <0:\n",
    "#     ivestis = float(input(\"Iveskite teigiama skaiciu_>\"))\n",
    "# print (ivestis)\n",
    "#         \n",
    "    \n",
    "\n"
   ],
   "metadata": {
    "collapsed": false,
    "ExecuteTime": {
     "end_time": "2024-02-09T09:01:53.647792100Z",
     "start_time": "2024-02-09T09:01:53.632223400Z"
    }
   },
   "id": "67bb330d86cb47d8"
  },
  {
   "cell_type": "markdown",
   "source": [
    "### 2. Sukurkite programą, kuri naudodama while ciklą, suskaičiuoja ir atspausdina bet kurio įvesto skaičiaus skaitmenų sumą (pvz., skaičiaus 12345 skaitmenų suma yra 15).\n"
   ],
   "metadata": {
    "collapsed": false
   },
   "id": "f431fbacea55b82a"
  },
  {
   "cell_type": "code",
   "execution_count": 248,
   "outputs": [],
   "source": [
    "# Sprendimas:\n",
    "# ivestis = input(\"Įveskite skaičių: \")\n",
    "# skaicius = int(ivestis)  # Konvertuojame įvestį į sveikąjį skaičių\n",
    "# \n",
    "# # Inicijuojame skaitmenų sumos kintamąjį\n",
    "# suma = 0\n",
    "# \n",
    "# while skaicius > 0:\n",
    "#     suma = suma + skaicius % 10  # Pridedame paskutinį skaitmenį prie sumos\n",
    "#     skaicius //= 10  # Pašaliname paskutinį skaitmenį iš skaičiaus\n",
    "# \n",
    "# print(f\"Įvesto skaičiaus skaitmenų suma yra: {suma}\")\n"
   ],
   "metadata": {
    "collapsed": false,
    "ExecuteTime": {
     "end_time": "2024-02-09T09:01:53.647792100Z",
     "start_time": "2024-02-09T09:01:53.636728400Z"
    }
   },
   "id": "5df613baacc55477"
  },
  {
   "cell_type": "markdown",
   "source": [
    "### 3. Sukurkite programą, kuri naudoja while ciklą leisti vartotojui įvesti skaičius tol, kol vartotojas įveda 0. Programa turi rasti ir atspausdinti didžiausią bei mažiausią įvestus skaičius."
   ],
   "metadata": {
    "collapsed": false
   },
   "id": "1ced094d7661651f"
  },
  {
   "cell_type": "code",
   "execution_count": 249,
   "outputs": [],
   "source": [
    "# Sprendimas:\n",
    "# skaicius = 1\n",
    "# while True:\n",
    "#     skaicius = int(input(\"Iveskite skaiciu (0 - uzdaryti programa)_>\"))\n",
    "#     if skaicius == 0:\n",
    "#         break\n"
   ],
   "metadata": {
    "collapsed": false,
    "ExecuteTime": {
     "end_time": "2024-02-09T09:01:53.701636800Z",
     "start_time": "2024-02-09T09:01:53.650792Z"
    }
   },
   "id": "5cc3b496018ed47f"
  },
  {
   "cell_type": "markdown",
   "source": [
    "### 4. Parašykite programą, kuri naudoja while ciklą ir if sąlygas, kad pašalintų visus duplikatus iš sąrašo. Pavyzdžiui, jei pradinis sąrašas yra skaiciai = [1, 2, 2, 3, 4, 4, 5], galutinis sąrašas turėtų būti [1, 2, 3, 4, 5].\n"
   ],
   "metadata": {
    "collapsed": false
   },
   "id": "74c29926c7b90419"
  },
  {
   "cell_type": "code",
   "execution_count": 250,
   "outputs": [
    {
     "name": "stdout",
     "output_type": "stream",
     "text": [
      "{1, 2, 3, 4, 5}\n"
     ]
    }
   ],
   "source": [
    "# Sprendimas:\n",
    "skaiciai =  {1, 2, 2, 3, 4, 4, 5}\n",
    "\n",
    "print (skaiciai)\n",
    "\n",
    "\n"
   ],
   "metadata": {
    "collapsed": false,
    "ExecuteTime": {
     "end_time": "2024-02-09T09:01:53.702637300Z",
     "start_time": "2024-02-09T09:01:53.655471300Z"
    }
   },
   "id": "658a97f077ce5cec"
  },
  {
   "cell_type": "markdown",
   "source": [
    "### 5.Parašykite programą, imituojančią paprasto bankomato veikimą. Naudokite while ciklą, kad leistumėte vartotojui atlikti kelis veiksmus: patikrinti likutį, įnešti pinigus, išsiimti pinigus ir išeiti iš programos. Naudokite if sąlygas, kad užtikrintumėte, jog vartotojas negali išsiimti daugiau pinigų, nei yra sąskaitoje."
   ],
   "metadata": {
    "collapsed": false
   },
   "id": "dab793aaceece6eb"
  },
  {
   "cell_type": "code",
   "execution_count": 251,
   "outputs": [],
   "source": [
    "# Sprendimas:\n",
    "# while True:\n",
    "#     print(\"\\nMeniu:\")\n",
    "#     print(\"\\n1.Ideti pinigu\"\n",
    "#           \"\\n2.Isimti pinigu\"\n",
    "#           \"\\n3 Iseiti\")\n",
    "#     pasirinkimas = input(\"Pasirinkite veiksma:\")\n",
    "# \n",
    "#     if pasirinkimas == \"1\":\n",
    "#         print(\"Idedama pinigu\")\n",
    "#     elif pasirinkimas == '2':\n",
    "#         print(\"Issiimti pinigu\")\n",
    "#     elif pasirinkimas == '3':\n",
    "#         break\n",
    "#     else:\n",
    "#         print(\"Pasirinkimas neteisingas prasome bandyti dar karta\")\n"
   ],
   "metadata": {
    "collapsed": false,
    "ExecuteTime": {
     "end_time": "2024-02-09T09:01:53.717308800Z",
     "start_time": "2024-02-09T09:01:53.706309400Z"
    }
   },
   "id": "96d1f958713b6ccf"
  },
  {
   "cell_type": "markdown",
   "source": [
    "Try ir Except;"
   ],
   "metadata": {
    "collapsed": false
   },
   "id": "47754f565abbada4"
  },
  {
   "cell_type": "markdown",
   "source": [
    "### 1. Sukurkite programą, kuri prašo vartotojo įvesti skaičių ir bando jį konvertuoti į sveikąjį skaičių. Naudokite try ir except blokus, kad sugautumėte ValueError klaidą, jei įvestis negali būti konvertuota, ir atspausdinkite pranešimą \"Įvestis nėra sveikasis skaičius\"."
   ],
   "metadata": {
    "collapsed": false
   },
   "id": "50a4dc3df94673e4"
  },
  {
   "cell_type": "code",
   "execution_count": 252,
   "outputs": [
    {
     "name": "stdout",
     "output_type": "stream",
     "text": [
      "Ivestis skaicius 1\n"
     ]
    }
   ],
   "source": [
    "# Sprendimas:\n",
    "try:\n",
    "    ivestis = input(\"Prasome ivesti skaiciu_>\")\n",
    "    ivestis = int(ivestis)\n",
    "    print(f\"Ivestis skaicius {ivestis}\")\n",
    "    \n",
    "except ValueError:\n",
    "    print(\"Ivestis nera sveikasis skaicius\")"
   ],
   "metadata": {
    "collapsed": false,
    "ExecuteTime": {
     "end_time": "2024-02-09T09:01:55.383557900Z",
     "start_time": "2024-02-09T09:01:53.708305900Z"
    }
   },
   "id": "5a79798ea45903e4"
  },
  {
   "cell_type": "markdown",
   "source": [
    "### 2. Sukurkite programą, kuri prašo vartotojo įvesti indeksą ir bando atspausdinti elementą iš sąrašo pagal šį indeksą. Naudokite try ir except blokus, kad sugautumėte IndexError klaidą, jei nurodytas indeksas yra už sąrašo ribų, ir atspausdinkite pranešimą \"Neteisingas indeksas\"."
   ],
   "metadata": {
    "collapsed": false
   },
   "id": "fd2f76b4be14e69d"
  },
  {
   "cell_type": "code",
   "execution_count": 253,
   "outputs": [
    {
     "name": "stdout",
     "output_type": "stream",
     "text": [
      "Indekso klaida: Neteisingas indeksas\n"
     ]
    }
   ],
   "source": [
    "# Sprendimas:\n",
    "try:\n",
    "    indeksas = [1, 2, 3, 4, 5]\n",
    "    print(\"Skaicius:\", indeksas[6])\n",
    "except IndexError as e:\n",
    "    print(\"Indekso klaida:\", 'Neteisingas indeksas')"
   ],
   "metadata": {
    "collapsed": false,
    "ExecuteTime": {
     "end_time": "2024-02-09T09:01:55.383557900Z",
     "start_time": "2024-02-09T09:01:55.348549700Z"
    }
   },
   "id": "c551a855d12c37db"
  },
  {
   "cell_type": "markdown",
   "source": [
    "### 3. Parašykite programą, kuri prašo vartotojo įvesti savo amžių. Naudokite try ir except blokus, kad patikrintumėte, ar įvestis yra skaičius. Jei įvestis nėra skaičius, prašykite vartotojo įvesti amžių iš naujo. Programa turi tęsti šį procesą, kol bus gauta tinkama įvestis."
   ],
   "metadata": {
    "collapsed": false
   },
   "id": "de4bfaaaeaa4ea5d"
  },
  {
   "cell_type": "code",
   "execution_count": 255,
   "outputs": [
    {
     "name": "stdout",
     "output_type": "stream",
     "text": [
      " Jusu amzius yra:22\n"
     ]
    }
   ],
   "source": [
    "# Sprendimas:\n",
    "while True:\n",
    "       \n",
    "    try:\n",
    "        ivestis = int(input('Prasome ivesti savo amziu metais_>'))\n",
    "        print(f\" Jusu amzius yra:{ivestis}\")\n",
    "        break\n",
    "   \n",
    "    except ValueError as e:\n",
    "        print('Neteisingai ivestas skaicius!', e)\n",
    "    \n",
    "    "
   ],
   "metadata": {
    "collapsed": false,
    "ExecuteTime": {
     "end_time": "2024-02-09T09:07:36.580648200Z",
     "start_time": "2024-02-09T09:07:33.827522400Z"
    }
   },
   "id": "b3cf6246fbcdb109"
  },
  {
   "cell_type": "code",
   "outputs": [],
   "source": [],
   "metadata": {
    "collapsed": false,
    "ExecuteTime": {
     "start_time": "2024-02-09T09:01:58.549285900Z"
    }
   },
   "id": "c1b5e4db36640095",
   "execution_count": null
  },
  {
   "cell_type": "code",
   "outputs": [],
   "source": [],
   "metadata": {
    "collapsed": false,
    "ExecuteTime": {
     "end_time": "2024-02-09T09:01:58.579229200Z",
     "start_time": "2024-02-09T09:01:58.551286300Z"
    }
   },
   "id": "1706af3037a4f58b",
   "execution_count": 254
  },
  {
   "cell_type": "code",
   "outputs": [],
   "source": [],
   "metadata": {
    "collapsed": false,
    "ExecuteTime": {
     "end_time": "2024-02-09T09:01:58.609904500Z",
     "start_time": "2024-02-09T09:01:58.581394400Z"
    }
   },
   "id": "48c47251fac8a34",
   "execution_count": 254
  }
 ],
 "metadata": {
  "kernelspec": {
   "display_name": "Python 3",
   "language": "python",
   "name": "python3"
  },
  "language_info": {
   "codemirror_mode": {
    "name": "ipython",
    "version": 2
   },
   "file_extension": ".py",
   "mimetype": "text/x-python",
   "name": "python",
   "nbconvert_exporter": "python",
   "pygments_lexer": "ipython2",
   "version": "2.7.6"
  }
 },
 "nbformat": 4,
 "nbformat_minor": 5
}
