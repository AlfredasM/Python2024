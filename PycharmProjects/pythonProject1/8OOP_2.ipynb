{
 "cells": [
  {
   "cell_type": "markdown",
   "source": [
    "OOP Paveldėjimas"
   ],
   "metadata": {
    "collapsed": false
   },
   "id": "db3b5d5d05c50900"
  },
  {
   "cell_type": "markdown",
   "source": [
    "### 1. Sukurkite klasę \"TransportoPriemone\" ir išvestines klases \"Automobilis\" bei \"Dviratis\".\n",
    "TransportoPriemone klasė:\n",
    "\n",
    "* Sukurkite bazinę klasę TransportoPriemone, kuri turėtų šiuos atributus: pavadinimas, metai ir spalva.\n",
    "\n",
    "Automobilis klasė:\n",
    "   * Sukurkite išvestinę klasę Automobilis, kuri paveldėtų TransportoPriemone klasę.\n",
    "   * Pridėkite papildomą atributą variklio_turis.\n",
    "   * Perkraukite metodą info(), kad jis atspausdintų visą informaciją apie automobilį, įskaitant variklio tūrį.\n",
    "      * \n",
    "Dviratis klasė:\n",
    "   * Sukurkite dar vieną išvestinę klasę Dviratis, kuri taip pat paveldėtų TransportoPriemone klasę.\n",
    "   * Pridėkite papildomą atributą rame_dydis.\n",
    "   * Perkraukite metodą info(), kad jis atspausdintų visą informaciją apie dviratį, įskaitant rėmo dydį."
   ],
   "metadata": {
    "collapsed": false
   },
   "id": "cd20e86f8802ef8e"
  },
  {
   "cell_type": "code",
   "execution_count": 26,
   "outputs": [
    {
     "name": "stdout",
     "output_type": "stream",
     "text": [
      "Skoda, Metai: 2000, Spalva: Juoda\n",
      "None, variklio turis: 2L\n",
      "Mazda, Metai: 1999, Spalva: geltona\n",
      "None, variklio turis: 1.8L\n",
      "trek, Metai: 2000, Spalva: juoda\n",
      "None, remo dydis: L\n",
      "cube, Metai: 1995, Spalva: zalia\n",
      "None, remo dydis: XL\n"
     ]
    }
   ],
   "source": [
    "# Sprendimas:\n",
    "class Transportopriemone:\n",
    "    def __init__(self, pavadinimas, metai, spalva):\n",
    "        self.pavadinimas = pavadinimas\n",
    "        self.metai = metai\n",
    "        self.spalva = spalva\n",
    "\n",
    "    def priemoniu_info(self):\n",
    "        print(f'{self.pavadinimas}, Metai: {self.metai}, Spalva: {self.spalva}')\n",
    "\n",
    "\n",
    "class Automobilis(Transportopriemone):\n",
    "    def __init__(self, pavadinimas, metai, spalva, variklio_turis):\n",
    "        super().__init__(pavadinimas, metai, spalva)\n",
    "        self.variklio_turis = variklio_turis\n",
    "\n",
    "    def info(self):\n",
    "        print(f\"{super().priemoniu_info()}, variklio turis: {self.variklio_turis}\")\n",
    "\n",
    "\n",
    "class Dviratis(Transportopriemone):\n",
    "    def __init__(self, pavadinimas, metai, spalva, remo_dydis):\n",
    "        super().__init__(pavadinimas, metai, spalva)\n",
    "        self.remo_dydis = remo_dydis\n",
    "\n",
    "    def info(self):\n",
    "        print(f\"{super().priemoniu_info()}, remo dydis: {self.remo_dydis}\")\n",
    "\n",
    "Transportopriemone = Transportopriemone\n",
    "automobilis1 = Automobilis('Skoda', 2000, 'Juoda', '2L')\n",
    "automobilis2 = Automobilis('Mazda', 1999, 'geltona', '1.8L')\n",
    "automobilis1.info()\n",
    "automobilis2.info()\n",
    "\n",
    "dviratis1 = Dviratis('trek', 2000, 'juoda', 'L')\n",
    "dviratis2 = Dviratis('cube', 1995, 'zalia', 'XL')\n",
    "dviratis1.info()\n",
    "dviratis2.info()"
   ],
   "metadata": {
    "collapsed": false,
    "ExecuteTime": {
     "end_time": "2024-02-19T10:23:00.352318500Z",
     "start_time": "2024-02-19T10:23:00.331697100Z"
    }
   },
   "id": "b8789d1a269645f"
  },
  {
   "cell_type": "markdown",
   "source": [
    "### Sukurkite klasę Gyvunas su baziniais atributais rusis ir vardas. Tada sukurkite išvestines klases Katinas ir Suo, kurios paveldėtų Gyvunas klasę. Kiekvienoje išvestinėje klasėje pridėkite specifinį metodą: miaukseti() katinui ir loti() šuniui."
   ],
   "metadata": {
    "collapsed": false
   },
   "id": "6d1b89abe8405024"
  },
  {
   "cell_type": "code",
   "execution_count": 35,
   "outputs": [
    {
     "name": "stdout",
     "output_type": "stream",
     "text": [
      "rusis:naminis, vardas:reksas\n",
      "None, garsas:au\n",
      "rusis:naminis, vardas:murka\n",
      "None, garsas:miau\n"
     ]
    }
   ],
   "source": [
    "# Sprendimas:\n",
    "class Gyvunas:\n",
    "    def __init__(self, rusis, vardas):\n",
    "        self.rusis = rusis\n",
    "        self.vardas = vardas\n",
    "        \n",
    "    def info(self):\n",
    "        print(f'rusis:{self.rusis}, vardas:{self.vardas}')\n",
    "    \n",
    "class Suo(Gyvunas):\n",
    "    def __init__(self, rusis, vardas, garsas):\n",
    "        super().__init__(rusis, vardas)\n",
    "        self.garsas = garsas\n",
    "        \n",
    "    def info(self):\n",
    "        print(f'{super().info()}, garsas:{self.garsas}')\n",
    "        \n",
    "class Kate(Gyvunas):\n",
    "    def __init__(self, rusis, vardas, garsas):\n",
    "        super().__init__(rusis, vardas)\n",
    "        self.garsas = garsas\n",
    "        \n",
    "    def info(self):\n",
    "        print(f'{super().info()}, garsas:{self.garsas}')\n",
    "        \n",
    "        \n",
    "Gyvunas = Gyvunas\n",
    "\n",
    "gyvunas1 = Suo('naminis','reksas', 'au')\n",
    "gyvunas2 = Kate('naminis','murka','miau')\n",
    "\n",
    "gyvunas1.info()\n",
    "gyvunas2.info()\n",
    "    \n",
    "        \n",
    "    \n",
    "    \n",
    "    "
   ],
   "metadata": {
    "collapsed": false,
    "ExecuteTime": {
     "end_time": "2024-02-19T10:34:24.529972800Z",
     "start_time": "2024-02-19T10:34:24.523295900Z"
    }
   },
   "id": "f84cadf214eb1ff7"
  },
  {
   "cell_type": "markdown",
   "source": [
    "### 3. Sukurkite bazinę klasę Asmuo su atributais vardas ir pavarde. Tada sukurkite dvi išvestines klases: Mokytojas ir Mokinys. Mokytojas turėtų turėti papildomą atributą dalykas, o Mokinys - klase. Abu turėtų turėti metodą info(), kuris atspausdintų visą informaciją apie asmenį."
   ],
   "metadata": {
    "collapsed": false
   },
   "id": "d5fed6c9432e21f7"
  },
  {
   "cell_type": "code",
   "execution_count": 28,
   "outputs": [],
   "source": [
    "# Sprendimas:\n"
   ],
   "metadata": {
    "collapsed": false,
    "ExecuteTime": {
     "end_time": "2024-02-19T10:23:00.369363300Z",
     "start_time": "2024-02-19T10:23:00.356294500Z"
    }
   },
   "id": "982f3cc8ef02556"
  },
  {
   "cell_type": "markdown",
   "source": [
    "### 4. Sukurkite bazinę klasę Narys su atributais vardas, pavarde ir amzius. Išvestinėse klasėse Studentas ir Dėstytojas pridėkite specifinius atributus ir metodus, pvz., Studentas turėtų turėti studiju_programa ir metodą studijuoti(), o Dėstytojas - dalykas ir metodą destyti()."
   ],
   "metadata": {
    "collapsed": false
   },
   "id": "b258431fc81c41c1"
  },
  {
   "cell_type": "code",
   "execution_count": 29,
   "outputs": [],
   "source": [
    "# Sprendimas:\n"
   ],
   "metadata": {
    "collapsed": false,
    "ExecuteTime": {
     "end_time": "2024-02-19T10:23:00.369363300Z",
     "start_time": "2024-02-19T10:23:00.358799700Z"
    }
   },
   "id": "3351d429299b6472"
  }
 ],
 "metadata": {
  "kernelspec": {
   "display_name": "Python 3",
   "language": "python",
   "name": "python3"
  },
  "language_info": {
   "codemirror_mode": {
    "name": "ipython",
    "version": 2
   },
   "file_extension": ".py",
   "mimetype": "text/x-python",
   "name": "python",
   "nbconvert_exporter": "python",
   "pygments_lexer": "ipython2",
   "version": "2.7.6"
  }
 },
 "nbformat": 4,
 "nbformat_minor": 5
}
