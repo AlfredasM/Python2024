{
 "cells": [
  {
   "cell_type": "markdown",
   "source": [
    "### Jūsų užduotis – sukurti keletą klasių, kurios atspindėtų realias situacijas universitete, įskaitant studentus, dėstytojus ir kursus.\n",
    "\n",
    "Sukurkite Studentas klasę su šiais atributais:\n",
    "   * studento_id (unikalus identifikatorius),vardas,pavarde\n",
    "      * registruoti_kursai (pradinė būseną tuščias sąrašas).\n",
    "Ir šiais metodais:\n",
    "   * registruotis_kursui(kursas): prideda kursą prie registruoti_kursai sąrašo.\n",
    "   * atsisakyti_kurso(kursas): pašalina kursą iš registruoti_kursai sąrašo.\n",
    "\n",
    "Sukurkite Dėstytojas klasę su šiais atributais:\n",
    "    destytojo_id,vardas,pavarde,destomi_kursai (pradinė būseną tuščias sąrašas).\n",
    "\n",
    "Ir šiais metodais:\n",
    "   * prideti_kursa(kursas): prideda kursą prie destomi_kursai sąrašo.\n",
    "   * pašalinti_kursa(kursas): pašalina kursą iš destomi_kursai sąrašo.\n",
    "\n",
    "Sukurkite Kursas klasę su šiais atributais:\n",
    "   * kursas_id, pavadinimas, dėstytojas (priskirtas dėstytojas),\n",
    "   * registruoti_studentai (studentai, kurie užsiregistravę į kursą).\n",
    "\n",
    "Ir šiais metodais:\n",
    "   * prideti_studenta(studentas): prideda studentą prie registruoti_studentai sąrašo.\n",
    "   * pašalinti_studenta(studentas): pašalina studentą iš registruoti_studentai sąrašo.\n",
    "   * keisti_destytoja(destytojas): keičia kursui priskirtą dėstytoją."
   ],
   "metadata": {
    "collapsed": false
   },
   "id": "77661a3bcc9bec6e"
  },
  {
   "cell_type": "code",
   "execution_count": null,
   "outputs": [],
   "source": [
    "# Sprendimas:"
   ],
   "metadata": {
    "collapsed": false
   },
   "id": "3fdb5a186cb42e46"
  }
 ],
 "metadata": {
  "kernelspec": {
   "display_name": "Python 3",
   "language": "python",
   "name": "python3"
  },
  "language_info": {
   "codemirror_mode": {
    "name": "ipython",
    "version": 2
   },
   "file_extension": ".py",
   "mimetype": "text/x-python",
   "name": "python",
   "nbconvert_exporter": "python",
   "pygments_lexer": "ipython2",
   "version": "2.7.6"
  }
 },
 "nbformat": 4,
 "nbformat_minor": 5
}
