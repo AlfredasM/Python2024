{
 "cells": [
  {
   "cell_type": "markdown",
   "source": [
    "# Užduotys"
   ],
   "metadata": {
    "collapsed": false
   },
   "id": "2caa87172829b5b1"
  },
  {
   "cell_type": "markdown",
   "source": [
    "### 1. Papildykite Pranesimas klasę. Pridėkite metodą, kuris leistų pakeisti pranešimo autorių. Metodas turėtų priimti naują autoriaus vardą kaip parametrą.\n",
    "Sukurkite Blogas klasę. Ši klasė turėtų turėti pranešimų sąrašą (list) kaip atributą.Pridėkite metodus, kurie leistų:\n",
    "* Pridėti naują pranešimą į sąrašą.\n",
    "* Išvesti visus pranešimus, kurių tekstas turi tam tikrą žodį (metodas priima žodį kaip parametrą).\n",
    "* Ištrinti pranešimą pagal unikalų ID (kiekvienas pranešimas turėtų turėti unikalų identifikacinį numerį).\n"
   ],
   "metadata": {
    "collapsed": false
   },
   "id": "6dca6df8666fc49a"
  },
  {
   "cell_type": "markdown",
   "source": [
    "### 2. Įtraukite metodą, kuris leistų balsuoti už komentarą. Kiekvienas komentaras turėtų turėti balsų skaičių, kuris pradžioje yra 0. Metodas turėtų leisti pridėti teigiamą arba neigiamą balsą.\n",
    "Sukurkite Forumas klasę, kuri turėtų komentarų sąrašą. Pridėkite funkcionalumą:\n",
    "   * Pridėti naują komentarą.\n",
    "   * Rasti ir išvesti komentarą su daugiausiai balsų.\n",
    "   * Išvesti komentarų skaičių pagal nurodytą pranešimo ID."
   ],
   "metadata": {
    "collapsed": false
   },
   "id": "10b37d3f0d0789d0"
  },
  {
   "cell_type": "markdown",
   "source": [
    "### 3. Sukurkite paprastą tekstine vartotojo sąsają (CLI - Command Line Interface),naudojant input() ir print() funkcijas, kuri leistų vartotojui:\n",
    "   * Sukurti naują pranešimą.\n",
    "   * Pridėti komentarą prie pranešimo.\n",
    "   * Peržiūrėti visus pranešimus ir juos filtruoti pagal autorius ar datas.\n",
    "   * Balsuoti už komentarus."
   ],
   "metadata": {
    "collapsed": false
   },
   "id": "c37b821faa705671"
  },
  {
   "cell_type": "markdown",
   "source": [
    "### 4.Papildykite PranesimuValdymas klasę. Pridėkite metodą, kuris leistų filtruoti ir grąžinti pranešimus pagal nurodytą laikotarpį (nuo - iki datos).\n",
    "   * Sukurkite naują metodą, kuris leistų gauti visus komentarus, kurie buvo parašyti tam tikro autoriaus."
   ],
   "metadata": {
    "collapsed": false
   },
   "id": "1f666590af5c1b6f"
  }
 ],
 "metadata": {
  "kernelspec": {
   "display_name": "Python 3",
   "language": "python",
   "name": "python3"
  },
  "language_info": {
   "codemirror_mode": {
    "name": "ipython",
    "version": 2
   },
   "file_extension": ".py",
   "mimetype": "text/x-python",
   "name": "python",
   "nbconvert_exporter": "python",
   "pygments_lexer": "ipython2",
   "version": "2.7.6"
  }
 },
 "nbformat": 4,
 "nbformat_minor": 5
}
