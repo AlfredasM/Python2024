{
 "cells": [
  {
   "cell_type": "markdown",
   "source": [
    "Objektinis Programavimas(OOP)"
   ],
   "metadata": {
    "collapsed": false
   },
   "id": "885d051d47a9a6c9"
  },
  {
   "cell_type": "markdown",
   "source": [
    "### 1. Sukurkite paprastą bibliotekos valdymo sistemą naudojant Python OOP principus. Sistema turėtų leisti pridėti knygas į biblioteką, pašalinti knygas iš bibliotekos ir ieškoti knygų pagal pavadinimą."
   ],
   "metadata": {
    "collapsed": false
   },
   "id": "a6f4a7d9cfffc6a0"
  },
  {
   "cell_type": "code",
   "execution_count": 28,
   "outputs": [
    {
     "ename": "IndentationError",
     "evalue": "unindent does not match any outer indentation level (<string>, line 11)",
     "output_type": "error",
     "traceback": [
      "\u001B[1;36m  File \u001B[1;32m<string>:11\u001B[1;36m\u001B[0m\n\u001B[1;33m    print(f\"Knygos_pavadinimas:{pavadinimas} pridetas!\")\u001B[0m\n\u001B[1;37m                                                        ^\u001B[0m\n\u001B[1;31mIndentationError\u001B[0m\u001B[1;31m:\u001B[0m unindent does not match any outer indentation level\n"
     ]
    }
   ],
   "source": [
    "#Sprendimas:\n",
    "class Knygos:\n",
    "    def __init__(self):\n",
    "        self.knygu_sarasas = []\n",
    "        \n",
    "    def prideti_knyga (self, knygos_pavadinimas):\n",
    "            self.knygu_sarasas.append({\n",
    "                'pavadinimas': pavadinimas,\n",
    "                'autorius': autorius\n",
    "                            })\n",
    "        print(f\"Knygos_pavadinimas:{pavadinimas} pridetas!\")\n",
    "    \n",
    "    def ieskoti_knygos_pagal_pavadinima(self, pavadinimas):\n",
    "        rasti_knyga = [knyga for darbuotojas in self.knygu_sarasas if pavadinimas.lower() in darbuotojas[\"vardas\"].lower()]\n",
    "        if rasti_darbuotojai:\n",
    "            return rasti_darbuotojai\n",
    "        else:\n",
    "            return \"Darbuotoju su tokiu vardu nerasta!\"\n",
    "        \n",
    "    def info(self):\n",
    "        print(f\"Knyga: {self.knygu_sarasas}\")   \n",
    "        \n",
    "Biblioteka = Knygos()\n",
    "Biblioteka.prideti_knyga ('Alchemikas', 'autorius1')\n",
    "Biblioteka.prideti_knyga('Kliudziau', 'autorius2')\n",
    "\n"
   ],
   "metadata": {
    "collapsed": false,
    "ExecuteTime": {
     "end_time": "2024-02-13T13:23:57.293657600Z",
     "start_time": "2024-02-13T13:23:57.285630500Z"
    }
   },
   "id": "57f56d4de3d0b85c"
  },
  {
   "cell_type": "markdown",
   "source": [
    "### 2. Sukurkite paprasta gyvūnų prieglaudos sistemą naudojant objektinio programavimo principus. Sistema turėtų leisti pridėti gyvūnus į prieglaudą, pašalinti gyvūnus iš prieglaudos ir ieškoti gyvūnų pagal rūšį."
   ],
   "metadata": {
    "collapsed": false
   },
   "id": "f9fe97799957cefb"
  },
  {
   "cell_type": "code",
   "execution_count": 1,
   "outputs": [
    {
     "name": "stdout",
     "output_type": "stream",
     "text": [
      "Gyvunas: Kate pridetas!\n",
      "Gyvunas: Driezas pridetas!\n",
      "Gyvunu su tokiu pavadinimu nerasta!\n"
     ]
    }
   ],
   "source": [
    "# Sprendimas:\n",
    "class Gyvunai:\n",
    "    def __init__(self):\n",
    "        self.gyvunu_sarasas = []\n",
    "\n",
    "    def prideti_gyvuna(self, pavadinimas, rusis):\n",
    "        self.gyvunu_sarasas.append({\n",
    "            'pavadinimas': pavadinimas,\n",
    "            'rusis': rusis\n",
    "        })\n",
    "        print(f\"Gyvunas: {pavadinimas} pridetas!\")\n",
    "\n",
    "    def salinti_gyvuna(self, pavadinimas):\n",
    "        for gyvunas in self.gyvunu_sarasas:\n",
    "            if gyvunas['pavadinimas'] == pavadinimas:\n",
    "                self.gyvunu_sarasas.remove(gyvunas)\n",
    "                print(f\"Gyvunas: {pavadinimas} buvo pasalintas!\")\n",
    "                return\n",
    "        print(f\"Gyvunas: {pavadinimas} nerastas!\")\n",
    "\n",
    "    def ieskoti_gyvuno_pagal_pavadinima(self, pavadinimas):\n",
    "        \n",
    "        if pavadinimas in self.gyvunu_sarasas:\n",
    "            return rasti_gyvunai\n",
    "        else:\n",
    "            return \"Gyvunu su tokiu pavadinimu nerasta!\"\n",
    "\n",
    "    def info(self):\n",
    "        print(f\"Gyvunas: {self.gyvunu_sarasas}\")\n",
    "\n",
    "\n",
    "prieglauda = Gyvunai()\n",
    "prieglauda.prideti_gyvuna('Kate', 'siltakraujas')\n",
    "prieglauda.prideti_gyvuna('Driezas','saltkraujis')\n",
    "#prieglauda.salinti_gyvuna('Kate')\n",
    "print(prieglauda.ieskoti_gyvuno_pagal_pavadinima('Kate'))\n",
    "# imone.info()\n",
    "# imone1.info()"
   ],
   "metadata": {
    "collapsed": false,
    "ExecuteTime": {
     "end_time": "2024-02-14T06:52:47.995901200Z",
     "start_time": "2024-02-14T06:52:47.986895700Z"
    }
   },
   "id": "82fc8d770a351730"
  },
  {
   "cell_type": "markdown",
   "source": [
    "### 3. Sukurkite sistemą leidžiančia valdyti elektroninės parduotuvės produktų asortimentą, naudojant objektinio programavimo principus. Sistema turėtų leisti pridėti produktus, šalinti produktus ir ieškoti produktų pagal pavadinimą."
   ],
   "metadata": {
    "collapsed": false
   },
   "id": "2b625bc31395ec44"
  },
  {
   "cell_type": "code",
   "execution_count": 30,
   "outputs": [],
   "source": [
    "# Sprendimas:\n"
   ],
   "metadata": {
    "collapsed": false,
    "ExecuteTime": {
     "end_time": "2024-02-13T13:23:57.314791500Z",
     "start_time": "2024-02-13T13:23:57.305677700Z"
    }
   },
   "id": "c69602330accd4e"
  },
  {
   "cell_type": "code",
   "execution_count": 30,
   "outputs": [],
   "source": [],
   "metadata": {
    "collapsed": false,
    "ExecuteTime": {
     "end_time": "2024-02-13T13:23:57.314791500Z",
     "start_time": "2024-02-13T13:23:57.310286300Z"
    }
   },
   "id": "2f6d760e5b6610d3"
  }
 ],
 "metadata": {
  "kernelspec": {
   "display_name": "Python 3",
   "language": "python",
   "name": "python3"
  },
  "language_info": {
   "codemirror_mode": {
    "name": "ipython",
    "version": 2
   },
   "file_extension": ".py",
   "mimetype": "text/x-python",
   "name": "python",
   "nbconvert_exporter": "python",
   "pygments_lexer": "ipython2",
   "version": "2.7.6"
  }
 },
 "nbformat": 4,
 "nbformat_minor": 5
}
