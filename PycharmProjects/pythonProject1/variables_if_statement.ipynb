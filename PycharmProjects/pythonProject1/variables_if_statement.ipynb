{
 "cells": [
  {
   "cell_type": "markdown",
   "source": [
    "# Kintamieji uždaviniai"
   ],
   "metadata": {
    "collapsed": false
   },
   "id": "ff1fe6722f310702"
  },
  {
   "cell_type": "markdown",
   "source": [
    "## 1 Užduotis: Sukurkite du kintamuosius vardas ir amzius. vardas turi būti tekstas, kuris yra jūsų vardas, o amzius - skaičius, kuris yra jūsų amžius. Atspausdinkite šiuos kintamuosius taip:  \"Mano vardas yra [vardas] ir man yra [amzius] metų.\""
   ],
   "metadata": {
    "collapsed": false
   },
   "id": "17b2c1030ac9abbb"
  },
  {
   "cell_type": "code",
   "execution_count": 57,
   "outputs": [
    {
     "name": "stdout",
     "output_type": "stream",
     "text": [
      "Alfredas 43\n"
     ]
    }
   ],
   "source": [
    "#Sprendimas: \n",
    "vardas = \"Alfredas\"\n",
    "amzius = 43\n",
    "\n",
    "print (vardas, amzius)"
   ],
   "metadata": {
    "collapsed": false,
    "ExecuteTime": {
     "end_time": "2024-02-08T18:18:15.599211200Z",
     "start_time": "2024-02-08T18:18:15.579613900Z"
    }
   },
   "id": "e213ceabbe81c31"
  },
  {
   "cell_type": "markdown",
   "source": [
    "## 2 Užduotis: Turite kintamąjį temperatura su pradine reikšme 25. Padidinkite temperatūrą 5 laipsniais ir atspausdinkite naująją temperatūrą su pranešimu: \"Nauja temperatūra yra [temperatura] laipsnių.\""
   ],
   "metadata": {
    "collapsed": false
   },
   "id": "88dfa898e8b30e41"
  },
  {
   "cell_type": "code",
   "execution_count": 58,
   "outputs": [
    {
     "name": "stdout",
     "output_type": "stream",
     "text": [
      "30\n"
     ]
    }
   ],
   "source": [
    "#Sprendimas: \n",
    "temperatura = 25\n",
    "temperatura +=5\n",
    "\n",
    "print (temperatura)"
   ],
   "metadata": {
    "collapsed": false,
    "ExecuteTime": {
     "end_time": "2024-02-08T18:18:15.627958100Z",
     "start_time": "2024-02-08T18:18:15.602211900Z"
    }
   },
   "id": "8e348122798641a3"
  },
  {
   "cell_type": "markdown",
   "source": [
    "## 3 Užduotis: Sukurkite tris kintamuosius: miestas (tekstas), gyventojuSkaicius (skaičius), ir yraUostamiestis (boolean - tiesa arba melas, priklausomai nuo to, ar miestas yra uostamiestis). Atspausdinkite šiuos kintamuosius sakinio pavidalu: \"[Miestas] turi [gyventojuSkaicius] gyventojų ir [yra/ne yra] uostamiestis.\""
   ],
   "metadata": {
    "collapsed": false
   },
   "id": "73683325f71c58be"
  },
  {
   "cell_type": "code",
   "execution_count": 59,
   "outputs": [
    {
     "name": "stdout",
     "output_type": "stream",
     "text": [
      "Kaunas turi 50000 gyventojų ir\n",
      "nera uostamiestis\n"
     ]
    }
   ],
   "source": [
    "#Sprendimas:\n",
    "miestas = \"Kaunas\"\n",
    "gyventoju_skaicius = 50000\n",
    "yra_Uostamiestis = False\n",
    "\n",
    "\n",
    "\n",
    "print (miestas, \"turi\", gyventoju_skaicius, \"gyventojų ir\" )\n",
    "if yra_Uostamiestis:  print (\"yra uostamiestis\")\n",
    "else: print(\"nera uostamiestis\")\n",
    "\n"
   ],
   "metadata": {
    "collapsed": false,
    "ExecuteTime": {
     "end_time": "2024-02-08T18:18:15.628958600Z",
     "start_time": "2024-02-08T18:18:15.604738500Z"
    }
   },
   "id": "734a1ee8b3ca4d29"
  },
  {
   "cell_type": "markdown",
   "source": [
    "## 4 Užduotis: Sukurkite sąrašą mėgstamiMaistai su penkiais jūsų mėgstamiausiais maistais. Atspausdinkite visą sąrašą ir atskirai kiekvieną maisto produktą naujoje eilutėje."
   ],
   "metadata": {
    "collapsed": false
   },
   "id": "4bd3aefb39d1a1d"
  },
  {
   "cell_type": "code",
   "execution_count": 60,
   "outputs": [
    {
     "name": "stdout",
     "output_type": "stream",
     "text": [
      "['Batonas', 'Moliugas']\n"
     ]
    }
   ],
   "source": [
    "#Sprendimas:\n",
    "\n",
    "pirkiniu_krepselis = ['Pienas', 'Duona', 'Sviestas', 'Batonas', 'Silke']\n",
    "#elemento pridejimas\n",
    "pirkiniu_krepselis.append(\"Kivis\")\n",
    "#elemento istrinimas pagal pavadinima\n",
    "pirkiniu_krepselis.remove('Duona')\n",
    "#elemento istrinimas pagal indeksa\n",
    "pirkiniu_krepselis.pop(1)\n",
    "#naujo elemento pridejimas pagal nurodyta indksa\n",
    "pirkiniu_krepselis.insert(2, 'Moliugas')\n",
    "#  seka start : end [1:3:2] zingsnis start stop step [::-1] apverciam sarasa is kitos puses\n",
    "print (pirkiniu_krepselis[1:3])\n",
    "#tekstas = \"Labas pasauli\"\n",
    "#pasveikinimas = tekstas [:5]\n",
    "#print (pasisveikinimas)"
   ],
   "metadata": {
    "collapsed": false,
    "ExecuteTime": {
     "end_time": "2024-02-08T18:18:15.667234200Z",
     "start_time": "2024-02-08T18:18:15.632447800Z"
    }
   },
   "id": "ea4836023ea349e"
  },
  {
   "cell_type": "markdown",
   "source": [
    "## 5 Užduotis: Sukurkite žodyną asmuo, kuris apima vardas, amzius, ir miestas atributus. Atspausdinkite visą žodyną ir kiekvieną atributą atskirai su pranešimu: \"[atributas] yra [reikšmė].\""
   ],
   "metadata": {
    "collapsed": false
   },
   "id": "c138bbcc67b38d24"
  },
  {
   "cell_type": "code",
   "execution_count": 61,
   "outputs": [
    {
     "name": "stdout",
     "output_type": "stream",
     "text": [
      "[{'vardas': 'Jonas', 'amzius': 30, 'miestas': 'Vilnius'}]\n"
     ]
    }
   ],
   "source": [
    "#Sprendimas: \n",
    "zodynas = [\n",
    "    {\"vardas\": \"Jonas\", \"amzius\": 30, \"miestas\": \"Vilnius\"}\n",
    "]\n",
    "\n",
    "print (zodynas)"
   ],
   "metadata": {
    "collapsed": false,
    "ExecuteTime": {
     "end_time": "2024-02-08T18:18:15.691274400Z",
     "start_time": "2024-02-08T18:18:15.669642600Z"
    }
   },
   "id": "bc64be617424a726"
  },
  {
   "cell_type": "markdown",
   "source": [
    "# IF sąlyga uždaviniai"
   ],
   "metadata": {
    "collapsed": false
   },
   "id": "7de17caf9c871245"
  },
  {
   "cell_type": "markdown",
   "source": [
    "## 1. Parašykite programą, kuri naudoja kintamąjį amzius ir if sakinį, kad nustatytų, ar asmuo yra pilnametis. Jei asmuo yra 18 metų ar vyresnis, atspausdinkite \"Jūs esate pilnametis.\", priešingu atveju atspausdinkite \"Jūs esate nepilnametis.\""
   ],
   "metadata": {
    "collapsed": false
   },
   "id": "aa9f3b1b3cd1bc41"
  },
  {
   "cell_type": "code",
   "execution_count": 62,
   "outputs": [
    {
     "name": "stdout",
     "output_type": "stream",
     "text": [
      "Jus esate pilnametis.\n"
     ]
    }
   ],
   "source": [
    "#Sprendimas: \n",
    "pilnametis = 18\n",
    "if pilnametis >= 18:\n",
    "    print (\"Jus esate pilnametis.\")\n",
    "else:\n",
    "    print (\"Jus esate nepilnametis.\")    \n",
    "\n"
   ],
   "metadata": {
    "collapsed": false,
    "ExecuteTime": {
     "end_time": "2024-02-08T18:18:15.703843500Z",
     "start_time": "2024-02-08T18:18:15.693274700Z"
    }
   },
   "id": "9f1f94b552783ff5"
  },
  {
   "cell_type": "markdown",
   "source": [
    "## 2. Sukurkite kintamąjį ivertinimas, kuris saugo mokinio pažymį skaičiais nuo 1 iki 10. Naudodami if sakinius, atspausdinkite mokinio įvertinimą žodžiais (pvz., \"puikiai\", \"gerai\", \"patenkinamai\", \"prastai\")."
   ],
   "metadata": {
    "collapsed": false
   },
   "id": "9d3f35604ad774b0"
  },
  {
   "cell_type": "code",
   "execution_count": 68,
   "outputs": [
    {
     "name": "stdout",
     "output_type": "stream",
     "text": [
      "puikiai\n"
     ]
    }
   ],
   "source": [
    "#Sprendimas: \n",
    "mokinio_pazymiai = 10\n",
    "\n",
    "if mokinio_pazymiai < 4:\n",
    "        print('prastai')\n",
    "\n",
    "elif mokinio_pazymiai <= 6:\n",
    "    print('patenkinamai')\n",
    "\n",
    "elif mokinio_pazymiai >= 7 and mokinio_pazymiai <10:\n",
    "    print('gerai')\n",
    "\n",
    "elif mokinio_pazymiai == 10 :\n",
    "    print ('puikiai')\n",
    "else:\n",
    "    print (error)"
   ],
   "metadata": {
    "collapsed": false,
    "ExecuteTime": {
     "end_time": "2024-02-08T18:19:14.342285500Z",
     "start_time": "2024-02-08T18:19:14.334283800Z"
    }
   },
   "id": "78ddb592c9a716ab"
  },
  {
   "cell_type": "markdown",
   "source": [
    "## 3. Sukurkite kintamąjį menuo ir priskirkite jam mėnesio pavadinimą. Naudodami if sakinius, nustatykite ir atspausdinkite, kokiam metų laikui tas mėnuo priklauso."
   ],
   "metadata": {
    "collapsed": false
   },
   "id": "6a233102d9cb2fe3"
  },
  {
   "cell_type": "code",
   "execution_count": 64,
   "outputs": [
    {
     "name": "stdout",
     "output_type": "stream",
     "text": [
      "pavasaris\n"
     ]
    }
   ],
   "source": [
    "#Sprendimas: \n",
    "menuo = 'Kovas'\n",
    "\n",
    "if menuo in ['Kovas', 'Balandis', 'Geguze']:\n",
    "    metu_laikas = 'pavasaris'\n",
    "print (metu_laikas)"
   ],
   "metadata": {
    "collapsed": false,
    "ExecuteTime": {
     "end_time": "2024-02-08T18:18:15.732614800Z",
     "start_time": "2024-02-08T18:18:15.707617700Z"
    }
   },
   "id": "7faffea3406e4dca"
  },
  {
   "cell_type": "markdown",
   "source": [
    "## 4. Sukurkite kintamąjį skaicius ir patikrinkite, ar jis yra lyginis ar nelyginis. Atspausdinkite atitinkamą pranešimą."
   ],
   "metadata": {
    "collapsed": false
   },
   "id": "acc9266fd8fa427d"
  },
  {
   "cell_type": "code",
   "execution_count": 65,
   "outputs": [
    {
     "name": "stdout",
     "output_type": "stream",
     "text": [
      "nelyginis\n"
     ]
    }
   ],
   "source": [
    "#Sprendimas:\n",
    "skaicius = 21\n",
    "if skaicius %2 == 0:\n",
    "    print ('lyginis')\n",
    "else:\n",
    "    print ('nelyginis')"
   ],
   "metadata": {
    "collapsed": false,
    "ExecuteTime": {
     "end_time": "2024-02-08T18:18:15.759893300Z",
     "start_time": "2024-02-08T18:18:15.734615Z"
    }
   },
   "id": "13fca7edbbc8ae4f"
  },
  {
   "cell_type": "markdown",
   "source": [
    "## 5. Turite kintamąjį uzsakymo_suma. Parduotuvė pristato prekes nemokamai, jei užsakymo suma yra 50 eurų ar daugiau. Jei suma mažesnė, pristatymas kainuoja 5 eurus. Atspausdinkite galutinę sumą su pristatymo mokesčiu."
   ],
   "metadata": {
    "collapsed": false
   },
   "id": "7997b3bf8fe79b7e"
  },
  {
   "cell_type": "code",
   "execution_count": 75,
   "outputs": [
    {
     "name": "stdout",
     "output_type": "stream",
     "text": [
      "54\n"
     ]
    }
   ],
   "source": [
    "#Sprendimas:\n",
    "suma = 49\n",
    "pristatymas = 0\n",
    "\n",
    "if suma < 50:\n",
    "      pristatymas = 5\n",
    "\n",
    "galutine_suma = suma + pristatymas\n",
    "\n",
    "print(galutine_suma)\n"
   ],
   "metadata": {
    "collapsed": false,
    "ExecuteTime": {
     "end_time": "2024-02-08T18:23:54.318052100Z",
     "start_time": "2024-02-08T18:23:54.311968600Z"
    }
   },
   "id": "ecd3198982d2631f"
  },
  {
   "cell_type": "code",
   "outputs": [],
   "source": [],
   "metadata": {
    "collapsed": false,
    "ExecuteTime": {
     "end_time": "2024-02-08T18:18:15.787717900Z",
     "start_time": "2024-02-08T18:18:15.762911Z"
    }
   },
   "id": "bac764ef9bec59af",
   "execution_count": 66
  }
 ],
 "metadata": {
  "kernelspec": {
   "display_name": "Python 3",
   "language": "python",
   "name": "python3"
  },
  "language_info": {
   "codemirror_mode": {
    "name": "ipython",
    "version": 2
   },
   "file_extension": ".py",
   "mimetype": "text/x-python",
   "name": "python",
   "nbconvert_exporter": "python",
   "pygments_lexer": "ipython2",
   "version": "2.7.6"
  }
 },
 "nbformat": 4,
 "nbformat_minor": 5
}
